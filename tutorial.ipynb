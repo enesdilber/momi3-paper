{
 "cells": [
  {
   "cell_type": "markdown",
   "metadata": {
    "ein.tags": "worksheet-0",
    "slideshow": {
     "slide_type": "-"
    }
   },
   "source": [
    "# Tutorial"
   ]
  },
  {
   "cell_type": "markdown",
   "metadata": {
    "ein.tags": "worksheet-0",
    "slideshow": {
     "slide_type": "-"
    }
   },
   "source": [
    "This is a tutorial for the `momi3` package."
   ]
  },
  {
   "cell_type": "code",
   "execution_count": 1,
   "metadata": {
    "autoscroll": false,
    "ein.tags": "worksheet-0",
    "slideshow": {
     "slide_type": "-"
    }
   },
   "outputs": [
    {
     "name": "stderr",
     "output_type": "stream",
     "text": [
      "/mnt/turbo/eneswork/jthlab/momi3/src/momi3/utils.py:22: TqdmExperimentalWarning: Using `tqdm.autonotebook.tqdm` in notebook mode. Use `tqdm.tqdm` instead to force console mode (e.g. in jupyter console)\n",
      "  from tqdm.autonotebook import tqdm\n"
     ]
    }
   ],
   "source": [
    "import demes, demesdraw\n",
    "\n",
    "import momi as momi2\n",
    "\n",
    "from momi3.MOMI import Momi"
   ]
  },
  {
   "cell_type": "markdown",
   "metadata": {
    "ein.tags": "worksheet-0",
    "slideshow": {
     "slide_type": "-"
    }
   },
   "source": [
    "## Constructing a demographic history by demes"
   ]
  },
  {
   "cell_type": "markdown",
   "metadata": {},
   "source": [
    "See [demes Tutorial](https://popsim-consortium.github.io/demes-spec-docs/main/tutorial.html#sec-tutorial) for more details on demes. Here we use a simple demog"
   ]
  },
  {
   "cell_type": "markdown",
   "metadata": {
    "ein.tags": "worksheet-0",
    "slideshow": {
     "slide_type": "-"
    }
   },
   "source": [
    "Use [demes](https://popsim-consortium.github.io/demes-docs/main/api.html) to construct a demographic history.\n",
    "The generation time `29` years per generation."
   ]
  },
  {
   "cell_type": "code",
   "execution_count": 2,
   "metadata": {},
   "outputs": [],
   "source": [
    "D = demes.Builder(generation_time=29, time_units='years')\n",
    "D.add_deme(\"NEA\", epochs=[dict(start_size=1e5, end_time=5.5e4)])\n",
    "D.add_deme(\"GhostNea\", start_time=5.51e4, epochs=[dict(end_time=4e4, start_size=1e5)], ancestors=[\"NEA\"])\n",
    "D.add_deme(\"YRI\", start_time=5e5, epochs=[dict(start_size=1e5)], ancestors=[\"NEA\"])\n",
    "D.add_deme(\"CHB\", start_time=8.5e4, epochs=[dict(start_size=1e4, end_time=1e4), \n",
    "                                            dict(start_size=1e4, end_size=1e5)], ancestors=[\"YRI\"])\n",
    "\n",
    "D.add_pulse(sources=[\"GhostNea\"], dest=\"CHB\", time=4.5e4, proportions=[.03])\n",
    "\n",
    "demo = D.resolve()"
   ]
  },
  {
   "cell_type": "markdown",
   "metadata": {},
   "source": [
    "Sample sizes are haploid. To get compialtion benefits of JAX use `jitted=True`."
   ]
  },
  {
   "cell_type": "code",
   "execution_count": 3,
   "metadata": {},
   "outputs": [],
   "source": [
    "momi = Momi(demo, sampled_demes=['YRI', 'CHB', 'NEA'], sample_sizes=[4, 8, 8], jitted=True)"
   ]
  },
  {
   "cell_type": "markdown",
   "metadata": {},
   "source": [
    "You can simulate a chromosome and get its JSFS."
   ]
  },
  {
   "cell_type": "code",
   "execution_count": 4,
   "metadata": {},
   "outputs": [],
   "source": [
    "jsfs = momi.simulate_chromosome(\n",
    "    sequence_length=1e6, recombination_rate=1.25e-8, mutation_rate=1.25e-8\n",
    ")"
   ]
  },
  {
   "cell_type": "markdown",
   "metadata": {},
   "source": [
    "Here are the `momi` model parameters. The left side shows the actual parameters that MOMI can learn, and the right side shows where those parameters are directed to in demes. `momi` automatically converts time from years to generations."
   ]
  },
  {
   "cell_type": "code",
   "execution_count": 5,
   "metadata": {},
   "outputs": [
    {
     "data": {
      "text/html": [
       "\n",
       "<div style=\"display: inline-block; width: 30%;\">\n",
       "    <a href=\"https://github.com/jthlab/momi3\" target=\"_blank\">SOURCE CODE</a> <a href=\"https://thumbs.gfycat.com/LastBrilliantElk-mobile.mp4\" target=\"_blank\">PAPER</a>\n",
       "    <br>\n",
       "    <img src=\"https://enesdilber.github.io/momilogo.png\" style=\"width:75px;height:52px;\">\n",
       "    <table border=\"1\" style=\"width: 100%;\">\n",
       "    <caption><h4>Size Parameters</h4></caption>\n",
       "    <thead>\n",
       "        <tr style=\"text-align: right;\">\n",
       "            <th >Parameter</th>\n",
       "            <th >Value</th>\n",
       "            <th >Infer</th>\n",
       "        </tr>\n",
       "    </thead>\n",
       "    <tbody>\n",
       "    <tr>\n",
       "<td style=\"text-align:left; font-family:'Lucida Console'\">&#951<sub>0</sub></td>\n",
       "<td style=\"font-family:'Lucida Console'\">1e+05</td>\n",
       "<td style=\"\">&#10060</td>\n",
       "</tr>\n",
       "<tr>\n",
       "<td style=\"text-align:left; font-family:'Lucida Console'\">&#951<sub>1</sub></td>\n",
       "<td style=\"font-family:'Lucida Console'\">1e+05</td>\n",
       "<td style=\"\">&#10060</td>\n",
       "</tr>\n",
       "<tr>\n",
       "<td style=\"text-align:left; font-family:'Lucida Console'\">&#951<sub>2</sub></td>\n",
       "<td style=\"font-family:'Lucida Console'\">1e+05</td>\n",
       "<td style=\"\">&#10060</td>\n",
       "</tr>\n",
       "<tr>\n",
       "<td style=\"text-align:left; font-family:'Lucida Console'\">&#951<sub>3</sub></td>\n",
       "<td style=\"font-family:'Lucida Console'\">1e+04</td>\n",
       "<td style=\"\">&#10060</td>\n",
       "</tr>\n",
       "<tr>\n",
       "<td style=\"text-align:left; font-family:'Lucida Console'\">&#951<sub>4</sub></td>\n",
       "<td style=\"font-family:'Lucida Console'\">1e+04</td>\n",
       "<td style=\"\">&#10060</td>\n",
       "</tr>\n",
       "<tr>\n",
       "<td style=\"text-align:left; font-family:'Lucida Console'\">&#951<sub>5</sub></td>\n",
       "<td style=\"font-family:'Lucida Console'\">1e+05</td>\n",
       "<td style=\"\">&#10060</td>\n",
       "</tr>\n",
       "\n",
       "    </tbody>\n",
       "    </table>\n",
       "    <table border=\"1\" style=\"width: 100%;\">\n",
       "    <caption><h4>Rate Parameters</h4></caption>\n",
       "    <thead>\n",
       "        <tr style=\"text-align: right;\">\n",
       "            <th >Parameter</th>\n",
       "            <th >Value</th>\n",
       "            <th >Infer</th>\n",
       "        </tr>\n",
       "    </thead>\n",
       "    <tbody>\n",
       "    \n",
       "    </tbody>\n",
       "    </table>\n",
       "    <table border=\"1\" style=\"width: 100%;\">\n",
       "    <caption><h4>Proportion Parameters</h4></caption>\n",
       "    <thead>\n",
       "        <tr style=\"text-align: right;\">\n",
       "            <th >Parameter</th>\n",
       "            <th >Value</th>\n",
       "            <th >Infer</th>\n",
       "        </tr>\n",
       "    </thead>\n",
       "    <tbody>\n",
       "    <tr>\n",
       "<td style=\"text-align:left; font-family:'Lucida Console'\">&#960<sub>0</sub></td>\n",
       "<td style=\"font-family:'Lucida Console'\">0.03</td>\n",
       "<td style=\"\">&#10060</td>\n",
       "</tr>\n",
       "\n",
       "    </tbody>\n",
       "    </table>\n",
       "    <table border=\"1\" style=\"width: 100%;\">\n",
       "    <caption><h4>Time Parameters</h4></caption>\n",
       "    <thead>\n",
       "        <tr style=\"text-align: right;\">\n",
       "            <th >Parameter</th>\n",
       "            <th >Value</th>\n",
       "            <th >Infer</th>\n",
       "        </tr>\n",
       "    </thead>\n",
       "    <tbody>\n",
       "    <tr>\n",
       "<td style=\"text-align:left; font-family:'Lucida Console'\">&#964<sub>0</sub></td>\n",
       "<td style=\"font-family:'Lucida Console'\">0</td>\n",
       "<td style=\"\">&#10060</td>\n",
       "</tr>\n",
       "<tr>\n",
       "<td style=\"text-align:left; font-family:'Lucida Console'\">&#964<sub>1</sub></td>\n",
       "<td style=\"font-family:'Lucida Console'\">345</td>\n",
       "<td style=\"\">&#10060</td>\n",
       "</tr>\n",
       "<tr>\n",
       "<td style=\"text-align:left; font-family:'Lucida Console'\">&#964<sub>2</sub></td>\n",
       "<td style=\"font-family:'Lucida Console'\">1.38e+03</td>\n",
       "<td style=\"\">&#10060</td>\n",
       "</tr>\n",
       "<tr>\n",
       "<td style=\"text-align:left; font-family:'Lucida Console'\">&#964<sub>3</sub></td>\n",
       "<td style=\"font-family:'Lucida Console'\">1.55e+03</td>\n",
       "<td style=\"\">&#10060</td>\n",
       "</tr>\n",
       "<tr>\n",
       "<td style=\"text-align:left; font-family:'Lucida Console'\">&#964<sub>4</sub></td>\n",
       "<td style=\"font-family:'Lucida Console'\">1.9e+03</td>\n",
       "<td style=\"\">&#10060</td>\n",
       "</tr>\n",
       "<tr>\n",
       "<td style=\"text-align:left; font-family:'Lucida Console'\">&#964<sub>5</sub></td>\n",
       "<td style=\"font-family:'Lucida Console'\">1.9e+03</td>\n",
       "<td style=\"\">&#10060</td>\n",
       "</tr>\n",
       "<tr>\n",
       "<td style=\"text-align:left; font-family:'Lucida Console'\">&#964<sub>6</sub></td>\n",
       "<td style=\"font-family:'Lucida Console'\">2.93e+03</td>\n",
       "<td style=\"\">&#10060</td>\n",
       "</tr>\n",
       "<tr>\n",
       "<td style=\"text-align:left; font-family:'Lucida Console'\">&#964<sub>7</sub></td>\n",
       "<td style=\"font-family:'Lucida Console'\">1.72e+04</td>\n",
       "<td style=\"\">&#10060</td>\n",
       "</tr>\n",
       "\n",
       "    </tbody>\n",
       "    </table>\n",
       "    <table border=\"1\" style=\"width: 100%;\">\n",
       "    <caption><h4>Constraints</h4></caption>\n",
       "    <thead>\n",
       "        <tr style=\"text-align: left;\">\n",
       "            <th style=\"text-align:left;\">User Constraints</th>\n",
       "        </tr>\n",
       "    </thead>\n",
       "    <tbody>\n",
       "    \n",
       "    </tbody>\n",
       "    </table>\n",
       "</div>\n",
       "<div style=\"display: inline-block; width: 50%;\">\n",
       "<br>\n",
       "    <table border=\"1\" style=\"width: 100%;\">\n",
       "    <caption><h4>Parameter Locations</h4></caption>\n",
       "    <thead>\n",
       "        <tr>\n",
       "            <th style=\"text-align:left; width:80%\">Demes Parameter</th>\n",
       "            <th >Parameter</th>\n",
       "        </tr>\n",
       "    </thead>\n",
       "    <tbody>\n",
       "    <tr>\n",
       "<td style=\"text-align:left; font-family:'Lucida Console', monospace\">start_size of NEA (epoch 0)</td>\n",
       "<td style=\"font-family:'Lucida Console'\">&#951<sub>0</sub></td>\n",
       "</tr>\n",
       "<tr>\n",
       "<td style=\"text-align:left; font-family:'Lucida Console', monospace\">end_size of NEA (epoch 0)</td>\n",
       "<td style=\"font-family:'Lucida Console'\">&#951<sub>0</sub></td>\n",
       "</tr>\n",
       "<tr>\n",
       "<td style=\"text-align:left; font-family:'Lucida Console', monospace\">start_size of GhostNea (epoch 0)</td>\n",
       "<td style=\"font-family:'Lucida Console'\">&#951<sub>1</sub></td>\n",
       "</tr>\n",
       "<tr>\n",
       "<td style=\"text-align:left; font-family:'Lucida Console', monospace\">end_size of GhostNea (epoch 0)</td>\n",
       "<td style=\"font-family:'Lucida Console'\">&#951<sub>1</sub></td>\n",
       "</tr>\n",
       "<tr>\n",
       "<td style=\"text-align:left; font-family:'Lucida Console', monospace\">end_size of YRI (epoch 0)</td>\n",
       "<td style=\"font-family:'Lucida Console'\">&#951<sub>2</sub></td>\n",
       "</tr>\n",
       "<tr>\n",
       "<td style=\"text-align:left; font-family:'Lucida Console', monospace\">start_size of YRI (epoch 0)</td>\n",
       "<td style=\"font-family:'Lucida Console'\">&#951<sub>2</sub></td>\n",
       "</tr>\n",
       "<tr>\n",
       "<td style=\"text-align:left; font-family:'Lucida Console', monospace\">start_size of CHB (epoch 0)</td>\n",
       "<td style=\"font-family:'Lucida Console'\">&#951<sub>3</sub></td>\n",
       "</tr>\n",
       "<tr>\n",
       "<td style=\"text-align:left; font-family:'Lucida Console', monospace\">end_size of CHB (epoch 0)</td>\n",
       "<td style=\"font-family:'Lucida Console'\">&#951<sub>3</sub></td>\n",
       "</tr>\n",
       "<tr>\n",
       "<td style=\"text-align:left; font-family:'Lucida Console', monospace\">start_size of CHB (epoch 1)</td>\n",
       "<td style=\"font-family:'Lucida Console'\">&#951<sub>4</sub></td>\n",
       "</tr>\n",
       "<tr>\n",
       "<td style=\"text-align:left; font-family:'Lucida Console', monospace\">end_size of CHB (epoch 1)</td>\n",
       "<td style=\"font-family:'Lucida Console'\">&#951<sub>5</sub></td>\n",
       "</tr>\n",
       "<tr>\n",
       "<td style=\"text-align:left; font-family:'Lucida Console', monospace\">proportions of the pulse from GhostNea to CHB</td>\n",
       "<td style=\"font-family:'Lucida Console'\">&#960<sub>0</sub></td>\n",
       "</tr>\n",
       "<tr>\n",
       "<td style=\"text-align:left; font-family:'Lucida Console', monospace\">end_time of YRI (epoch 0)</td>\n",
       "<td style=\"font-family:'Lucida Console'\">&#964<sub>0</sub></td>\n",
       "</tr>\n",
       "<tr>\n",
       "<td style=\"text-align:left; font-family:'Lucida Console', monospace\">end_time of CHB (epoch 1)</td>\n",
       "<td style=\"font-family:'Lucida Console'\">&#964<sub>0</sub></td>\n",
       "</tr>\n",
       "<tr>\n",
       "<td style=\"text-align:left; font-family:'Lucida Console', monospace\">end_time of CHB (epoch 0)</td>\n",
       "<td style=\"font-family:'Lucida Console'\">&#964<sub>1</sub></td>\n",
       "</tr>\n",
       "<tr>\n",
       "<td style=\"text-align:left; font-family:'Lucida Console', monospace\">end_time of GhostNea (epoch 0)</td>\n",
       "<td style=\"font-family:'Lucida Console'\">&#964<sub>2</sub></td>\n",
       "</tr>\n",
       "<tr>\n",
       "<td style=\"text-align:left; font-family:'Lucida Console', monospace\">time of the pulse from GhostNea to CHB</td>\n",
       "<td style=\"font-family:'Lucida Console'\">&#964<sub>3</sub></td>\n",
       "</tr>\n",
       "<tr>\n",
       "<td style=\"text-align:left; font-family:'Lucida Console', monospace\">end_time of NEA (epoch 0)</td>\n",
       "<td style=\"font-family:'Lucida Console'\">&#964<sub>4</sub></td>\n",
       "</tr>\n",
       "<tr>\n",
       "<td style=\"text-align:left; font-family:'Lucida Console', monospace\">start_time of GhostNea</td>\n",
       "<td style=\"font-family:'Lucida Console'\">&#964<sub>5</sub></td>\n",
       "</tr>\n",
       "<tr>\n",
       "<td style=\"text-align:left; font-family:'Lucida Console', monospace\">start_time of CHB</td>\n",
       "<td style=\"font-family:'Lucida Console'\">&#964<sub>6</sub></td>\n",
       "</tr>\n",
       "<tr>\n",
       "<td style=\"text-align:left; font-family:'Lucida Console', monospace\">start_time of YRI</td>\n",
       "<td style=\"font-family:'Lucida Console'\">&#964<sub>7</sub></td>\n",
       "</tr>\n",
       "\n",
       "    </tbody>\n",
       "    </table>\n",
       "</div>\n"
      ],
      "text/plain": [
       "{'tau_8': inf,\n",
       " 'tau_4': 1896.551724137931,\n",
       " 'eta_0': 100000.0,\n",
       " 'tau_5': 1900.0,\n",
       " 'tau_2': 1379.3103448275863,\n",
       " 'eta_1': 100000.0,\n",
       " 'tau_7': 17241.379310344826,\n",
       " 'tau_0': 0.0,\n",
       " 'eta_2': 100000.0,\n",
       " 'tau_6': 2931.0344827586205,\n",
       " 'tau_1': 344.82758620689657,\n",
       " 'eta_3': 10000.0,\n",
       " 'eta_4': 10000.0,\n",
       " 'eta_5': 100000.0,\n",
       " 'tau_3': 1551.7241379310344,\n",
       " 'pi_0': 0.03}"
      ]
     },
     "execution_count": 5,
     "metadata": {},
     "output_type": "execute_result"
    }
   ],
   "source": [
    "params = momi._default_params\n",
    "params"
   ]
  },
  {
   "cell_type": "markdown",
   "metadata": {},
   "source": [
    "One could use their favorite gradient based optimizer for momi. We recommend optax or jaxopt. Since they are optimized for JAX softwares. But feel free to use your favorite scipy function. Before optimizing first you need to set which parameters to learn. "
   ]
  },
  {
   "cell_type": "code",
   "execution_count": 6,
   "metadata": {},
   "outputs": [],
   "source": [
    "params.set_train('pi_0', True)\n",
    "\n",
    "params.set_train('eta_2', True)\n",
    "params.set_train('eta_3', True)\n",
    "params.set_train('eta_4', True)\n",
    "params.set_train('eta_5', True)\n",
    "\n",
    "params.set_train('tau_1', True)\n",
    "params.set_train('tau_6', True)"
   ]
  },
  {
   "cell_type": "markdown",
   "metadata": {},
   "source": [
    "Here is the momi demography plotter. It uses [demesdraw](https://pypi.org/project/demesdraw/). We superimpose the parameters on that."
   ]
  },
  {
   "cell_type": "code",
   "execution_count": 7,
   "metadata": {},
   "outputs": [
    {
     "data": {
      "image/png": "[encoded data removed]",
      "text/plain": [
       "<Figure size 853.333x480 with 1 Axes>"
      ]
     },
     "metadata": {},
     "output_type": "display_data"
    }
   ],
   "source": [
    "params.tubes(\n",
    "    show_values=True,\n",
    "    show_letters=True,\n",
    "    log_time=True,\n",
    "    hide_non_inferreds=True,\n",
    "    tau_keys=['tau_1', 'tau_6']\n",
    ")"
   ]
  },
  {
   "cell_type": "markdown",
   "metadata": {},
   "source": [
    "We provide gradients and transformed gradients. Transformed gradients are useful for unconstrained optimization. Below function returns negative likelihood with gradients."
   ]
  },
  {
   "cell_type": "code",
   "execution_count": 8,
   "metadata": {},
   "outputs": [
    {
     "name": "stderr",
     "output_type": "stream",
     "text": [
      "/mnt/turbo/eneswork/jthlab/momi3/src/momi3/math_functions.py:14: UserWarning: Explicitly requested dtype float requested in array is not available, and will be truncated to dtype float32. To enable more dtypes, set the jax_enable_x64 configuration option or the JAX_ENABLE_X64 shell environment variable. See https://github.com/google/jax#current-gotchas for more.\n",
      "  x = jnp.array(x, dtype='float')\n"
     ]
    },
    {
     "data": {
      "text/plain": [
       "(43121.86328125,\n",
       " {'eta_2': 0.003956700209528208,\n",
       "  'eta_3': 0.1301996260881424,\n",
       "  'tau_1': 0.32005807757377625,\n",
       "  'eta_5': 0.00022893105051480234,\n",
       "  'eta_4': 0.004793066531419754,\n",
       "  'tau_6': -0.4648887813091278,\n",
       "  'pi_0': 3331.42333984375})"
      ]
     },
     "execution_count": 8,
     "metadata": {},
     "output_type": "execute_result"
    }
   ],
   "source": [
    "momi.negative_loglik_with_gradient(params=params, jsfs=jsfs, transformed=False)"
   ]
  },
  {
   "cell_type": "code",
   "execution_count": 9,
   "metadata": {},
   "outputs": [
    {
     "data": {
      "text/plain": [
       "(43121.8671875,\n",
       " {'softplus(eta_2)': 0.003956705331802368,\n",
       "  'softplus(eta_3)': 0.1301993429660797,\n",
       "  'softplus(eta_5)': 0.00022893196728546172,\n",
       "  'softplus(eta_4)': 0.004793062340468168,\n",
       "  'logit(pi_0)': 96.94164276123047,\n",
       "  'log(tau_2-tau_1)': -3.811123860941734e-08,\n",
       "  'log(tau_7-tau_6)': -722.14892578125,\n",
       "  'log(tau_1-tau_0)': 110.36426544189453,\n",
       "  'log(tau_6-tau_5)': -531.345458984375})"
      ]
     },
     "execution_count": 9,
     "metadata": {},
     "output_type": "execute_result"
    }
   ],
   "source": [
    "momi.negative_loglik_with_gradient(params=params, jsfs=jsfs, transformed=True)"
   ]
  },
  {
   "cell_type": "markdown",
   "metadata": {},
   "source": [
    "See `optimization.ipynb` for more details on optimization."
   ]
  }
 ],
 "metadata": {
  "kernelspec": {
   "display_name": "Python 3 (ipykernel)",
   "language": "python",
   "name": "python3"
  },
  "language_info": {
   "codemirror_mode": {
    "name": "ipython",
    "version": 3
   },
   "file_extension": ".py",
   "mimetype": "text/x-python",
   "name": "python",
   "nbconvert_exporter": "python",
   "pygments_lexer": "ipython3",
   "version": "3.10.6"
  },
  "name": "tutorial.ipynb",
  "org": null
 },
 "nbformat": 4,
 "nbformat_minor": 1
}

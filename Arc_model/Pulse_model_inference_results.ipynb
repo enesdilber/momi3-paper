{
 "cells": [
  {
   "cell_type": "markdown",
   "id": "c2d1f52a",
   "metadata": {},
   "source": [
    "Command for bootstrap runs:\n",
    "`python train.py mode=send_job_bootstrap model=pulse data=jsfs_UNIF_Yoruba_French_Papuan_Vindija_Denisovan_3419145_108.npy niter=500 bound_sampler=True train_pars=eta,pi transformed=False proc=GPU file_name=bs.pickle q=0.999 lr_pi=0.001 lr_eta=0.5 nSNPs=1000000 njobs=100`"
   ]
  },
  {
   "cell_type": "code",
   "execution_count": 1,
   "id": "3bd18faf",
   "metadata": {},
   "outputs": [
    {
     "name": "stdout",
     "output_type": "stream",
     "text": [
      "Created `%t` as an alias for `%timeit`.\n",
      "Created `%%t` as an alias for `%%timeit`.\n"
     ]
    }
   ],
   "source": [
    "%load_ext autoreload\n",
    "%autoreload 2\n",
    "%load_ext line_profiler\n",
    "%alias_magic t timeit\n",
    "%load_ext memory_profiler"
   ]
  },
  {
   "cell_type": "code",
   "execution_count": 2,
   "id": "2ed75849",
   "metadata": {},
   "outputs": [],
   "source": [
    "# import os\n",
    "# os.environ[\"XLA_PYTHON_CLIENT_MEM_FRACTION\"] = \"1.\"\n",
    "# os.environ[\"XLA_PYTHON_CLIENT_PREALLOCATE\"] = \"true\"\n",
    "# import jax\n",
    "# jax.config.update('jax_platform_name', 'cpu')\n",
    "# jax.devices()"
   ]
  },
  {
   "cell_type": "code",
   "execution_count": 3,
   "id": "aa99b38e",
   "metadata": {
    "scrolled": true
   },
   "outputs": [
    {
     "name": "stderr",
     "output_type": "stream",
     "text": [
      "/mnt/turbo/eneswork/jthlab/momi3/src/momi3/utils.py:22: TqdmExperimentalWarning: Using `tqdm.autonotebook.tqdm` in notebook mode. Use `tqdm.tqdm` instead to force console mode (e.g. in jupyter console)\n",
      "  from tqdm.autonotebook import tqdm\n"
     ]
    }
   ],
   "source": [
    "import jax\n",
    "import optax\n",
    "import sys\n",
    "\n",
    "import demes, demesdraw, sparse\n",
    "import matplotlib.pyplot as plt\n",
    "import numpy as np\n",
    "import pandas as pd\n",
    "\n",
    "\n",
    "from momi3.Params import Params\n",
    "from momi3.MOMI import Momi\n",
    "from momi3.optimizers import optax_for_momi\n",
    "from momi3.utils import bootstrap_sample\n",
    "\n",
    "import re\n",
    "import math\n",
    "import pickle\n",
    "import tskit\n",
    "\n",
    "from tqdm.notebook import tqdm, trange\n",
    "\n",
    "from scipy import stats, optimize\n",
    "import numpy as np\n",
    "import jax.numpy as jnp\n",
    "import seaborn as sns\n",
    "\n",
    "from ast import literal_eval\n",
    "\n",
    "from train import get_demo, get_params, get_lr_vector"
   ]
  },
  {
   "cell_type": "code",
   "execution_count": 4,
   "id": "b0565c9d",
   "metadata": {},
   "outputs": [],
   "source": [
    "sys.path.append(\"../\")\n",
    "from Timing_util import *"
   ]
  },
  {
   "cell_type": "code",
   "execution_count": 5,
   "id": "5d9bdc49",
   "metadata": {},
   "outputs": [],
   "source": [
    "dissertation_dir = '../../PhD-Dissertation/'"
   ]
  },
  {
   "cell_type": "code",
   "execution_count": 6,
   "id": "22a097c0",
   "metadata": {},
   "outputs": [],
   "source": [
    "jsfs = np.load('jsfs_UNIF_Yoruba_French_Papuan_Vindija_Denisovan_3419145_108.npy')"
   ]
  },
  {
   "cell_type": "code",
   "execution_count": 7,
   "id": "cdce01d5",
   "metadata": {
    "scrolled": true
   },
   "outputs": [
    {
     "name": "stdout",
     "output_type": "stream",
     "text": [
      "# Number of SNPs: 29.9 Millions\n"
     ]
    }
   ],
   "source": [
    "print(f'# Number of SNPs: {jsfs.sum()/1e6:.1f} Millions')"
   ]
  },
  {
   "cell_type": "code",
   "execution_count": 8,
   "id": "781c542c",
   "metadata": {},
   "outputs": [
    {
     "name": "stdout",
     "output_type": "stream",
     "text": [
      "# Non-zero SFS entries: 453047\n"
     ]
    }
   ],
   "source": [
    "print(f'# Non-zero SFS entries: {(jsfs != 0).sum()}')"
   ]
  },
  {
   "cell_type": "code",
   "execution_count": 9,
   "id": "cbdee122",
   "metadata": {},
   "outputs": [],
   "source": [
    "nnz = (jsfs != 0).sum()"
   ]
  },
  {
   "cell_type": "code",
   "execution_count": 10,
   "id": "74cc6db2",
   "metadata": {},
   "outputs": [
    {
     "data": {
      "text/plain": [
       "75507.83333333333"
      ]
     },
     "execution_count": 10,
     "metadata": {},
     "output_type": "execute_result"
    }
   ],
   "source": [
    "nnz / 6"
   ]
  },
  {
   "cell_type": "code",
   "execution_count": 11,
   "id": "0d567d9a",
   "metadata": {},
   "outputs": [],
   "source": [
    "sampled_demes = ('Yoruba', 'French', 'Papuan', 'Vindija', 'Denisovan')\n",
    "sample_sizes = [i - 1 for i in jsfs.shape]"
   ]
  },
  {
   "cell_type": "code",
   "execution_count": 12,
   "id": "75459e4c",
   "metadata": {},
   "outputs": [],
   "source": [
    "demo = get_demo('pulse')"
   ]
  },
  {
   "cell_type": "code",
   "execution_count": 13,
   "id": "4d72517c",
   "metadata": {},
   "outputs": [],
   "source": [
    "momi = Momi(demo, sampled_demes, sample_sizes, jitted=True, batch_size=75600, low_memory=True)"
   ]
  },
  {
   "cell_type": "code",
   "execution_count": 14,
   "id": "95d0272b",
   "metadata": {},
   "outputs": [
    {
     "name": "stdout",
     "output_type": "stream",
     "text": [
      "ancestral size: 7310.0\n"
     ]
    }
   ],
   "source": [
    "params = Params(momi)\n",
    "params.set_train_all_etas(True)\n",
    "params.set_train_all_pis(True)\n",
    "params.set_train('eta_0', False) # Ancestral pop size is not inferred\n",
    "print(f\"ancestral size: {params['eta_0']}\")"
   ]
  },
  {
   "cell_type": "code",
   "execution_count": 15,
   "id": "275a10fa",
   "metadata": {},
   "outputs": [],
   "source": [
    "# bounds = momi.bound_sampler(params, 10000, min_lineages=2, quantile=0.999)\n",
    "# momi = momi.bound(bounds)"
   ]
  },
  {
   "cell_type": "code",
   "execution_count": 16,
   "id": "33028076",
   "metadata": {},
   "outputs": [],
   "source": [
    "#momi.loglik(params, jsfs)"
   ]
  },
  {
   "cell_type": "code",
   "execution_count": 17,
   "id": "d0b97e4d",
   "metadata": {},
   "outputs": [],
   "source": [
    "ttds = []\n",
    "\n",
    "for i in range(100):\n",
    "    try:\n",
    "        with open(f'jsfs_UNIF_Yoruba_French_Papuan_Vindija_Denisovan_3419145_108/bs{i}.pickle', 'rb') as f:\n",
    "            ret = pickle.load(f)\n",
    "        history = ret['history']\n",
    "        ind = np.argmin(history['LLs'])\n",
    "        ttd = history['ttds'][ind]\n",
    "        ttd = {i: float(ttd[i]) for i in ttd}\n",
    "        ttds.append(ttd)\n",
    "    except:\n",
    "        pass\n",
    "        print('x')\n",
    "    \n",
    "df = pd.DataFrame(ttds)"
   ]
  },
  {
   "cell_type": "code",
   "execution_count": 22,
   "id": "adaab316",
   "metadata": {},
   "outputs": [],
   "source": [
    "theta_mu = df.mean().to_dict()\n",
    "theta_sigma = df.std().to_dict()"
   ]
  },
  {
   "cell_type": "code",
   "execution_count": 23,
   "id": "92e5cbb7",
   "metadata": {},
   "outputs": [],
   "source": [
    "params.set_optimization_results(theta_mu)"
   ]
  },
  {
   "cell_type": "code",
   "execution_count": 24,
   "id": "08941af1",
   "metadata": {},
   "outputs": [],
   "source": [
    "#momi.loglik(params, jsfs, theta_train_dict=ttd)"
   ]
  },
  {
   "cell_type": "code",
   "execution_count": 25,
   "id": "100b5688",
   "metadata": {},
   "outputs": [],
   "source": [
    "SNR = {i: theta_mu[i] / theta_sigma[i] for i in theta_mu} # Signal to noise ratio"
   ]
  },
  {
   "cell_type": "code",
   "execution_count": 26,
   "id": "46281c8f",
   "metadata": {},
   "outputs": [],
   "source": [
    "params.set_train('eta_12', False)\n",
    "params.set_train('eta_10', False)\n",
    "\n",
    "from matplotlib.pyplot import cm\n",
    "\n",
    "color_list = list(cm.tab10.colors)\n",
    "color_pastel = list(cm.Pastel1.colors)\n",
    "\n",
    "positions={\n",
    "    'ancestral': 0,\n",
    "    'AMH': 37500,\n",
    "    'OOA': 15000,\n",
    "    'Yoruba': 60000,\n",
    "    'French': 30000,\n",
    "    'Papuan': 0,\n",
    "    'NeaDenAnc': -50000,\n",
    "    'NeanderthalGHOST': -30000,\n",
    "    'Vindija': -40000,\n",
    "    'DenisovanGHOST': -70000,\n",
    "    'Denisovan': -55000\n",
    "}\n",
    "\n",
    "colors = {\n",
    "    'ancestral': color_list[0],\n",
    "    'AMH': color_list[1],\n",
    "    'OOA': color_list[2],\n",
    "    'Yoruba': color_list[3],\n",
    "    'French': color_list[4],\n",
    "    'Papuan': color_list[5],\n",
    "    'NeaDenAnc': color_pastel[1],\n",
    "    'NeanderthalGHOST': color_pastel[0],\n",
    "    'Vindija': color_pastel[1],\n",
    "    'DenisovanGHOST': color_pastel[2],\n",
    "    'Denisovan': color_pastel[3]\n",
    "}"
   ]
  },
  {
   "cell_type": "code",
   "execution_count": 27,
   "id": "c2dc0fd5",
   "metadata": {},
   "outputs": [],
   "source": [
    "# from momi3.utils import halfsigmoid\n",
    "# f = lambda x: halfsigmoid(1/x, 0.03)\n",
    "\n",
    "# import matplotlib as mpl\n",
    "# from matplotlib.colors import LinearSegmentedColormap\n",
    "# import matplotlib.colors as mcolors\n",
    "# from matplotlib.colors import ListedColormap\n",
    "\n",
    "# vals = list(SNR.values())\n",
    "# colors_SNR = [(1.0, 1.0, 1.0), (1.0, 0, 0)]\n",
    "# cm = mcolors.LinearSegmentedColormap.from_list(\"Custom\", colors_SNR)\n",
    "# box_color = cm(f(np.linspace(min(vals), max(vals), 100)))\n",
    "# my_cmap = ListedColormap(box_color)"
   ]
  },
  {
   "cell_type": "code",
   "execution_count": 24,
   "id": "656fdeb4",
   "metadata": {},
   "outputs": [
    {
     "data": {
      "image/png": "[encoded data removed]",
      "text/plain": [
       "<Figure size 800x1000 with 1 Axes>"
      ]
     },
     "metadata": {},
     "output_type": "display_data"
    }
   ],
   "source": [
    "figure_name = 'OOA_hominid_5'\n",
    "fig, ax = plt.subplots(1, 1, figsize=(8, 10))\n",
    "params.tubes(\n",
    "    True, True,\n",
    "    log_time=False,\n",
    "    hide_non_inferreds=True,\n",
    "#     USER_DICT=SNR,\n",
    "#     color_intensity_function=f,\n",
    "    tau_keys=['tau_2', 'tau_3', 'tau_7', 'tau_8', 'tau_9', 'tau_10'],\n",
    "    fontsize=10,\n",
    "    ax=ax,\n",
    "    positions=positions,\n",
    "    colours=colors,\n",
    "    nudge_text_pos={\n",
    "        'pi_1': {'x': -10000, 'y':-470},\n",
    "        'pi_0': {'y': 150},\n",
    "        'eta_9': {'y': 3600},\n",
    "        'eta_11': {'y': 3600},\n",
    "        'eta_6': {'y': -100},\n",
    "        'eta_4': {'y': -100},\n",
    "        'eta_1': {'y': 800},\n",
    "        'eta_8': {'y': 1000},\n",
    "        'eta_3': {'y': 1300}\n",
    "    })\n",
    "\n",
    "# c = plt.pcolor(np.zeros((1, 1)),linewidths=0, cmap=my_cmap, vmin=min(vals), vmax=max(vals))\n",
    "# clb = plt.colorbar(c)\n",
    "# clb.ax.set_title('SNR')\n",
    "\n",
    "\n",
    "plt.savefig(f\"{dissertation_dir}figures/chapter3/demo/{figure_name}.pdf\", format=\"pdf\", bbox_inches=\"tight\", dpi=600)\n"
   ]
  },
  {
   "cell_type": "code",
   "execution_count": 25,
   "id": "7576a6b0",
   "metadata": {},
   "outputs": [],
   "source": [
    "demes.dump(params.demo_graph, filename='arc5_pulse_inferred.yaml', format='yaml', simplified=False)"
   ]
  },
  {
   "cell_type": "code",
   "execution_count": 26,
   "id": "5e1c8e4c",
   "metadata": {},
   "outputs": [],
   "source": [
    "growth_rate = lambda Ne0, Ne1, tau: jnp.log(Ne0 / Ne1) / tau"
   ]
  },
  {
   "cell_type": "code",
   "execution_count": 27,
   "id": "ca3fb520",
   "metadata": {},
   "outputs": [],
   "source": [
    "eta_5 = jnp.array(df['eta_5'])\n",
    "eta_4 = jnp.array(df['eta_4'])\n",
    "tau_3 = params['tau_3'].num\n",
    "df['gr_FR'] = 100 * growth_rate(eta_5, eta_4, tau_3)\n",
    "\n",
    "eta_7 = jnp.array(df['eta_7'])\n",
    "eta_6 = jnp.array(df['eta_6'])\n",
    "tau_3 = params['tau_3'].num\n",
    "df['gr_PA'] = 100 * growth_rate(eta_7, eta_6, tau_3)"
   ]
  },
  {
   "cell_type": "code",
   "execution_count": 28,
   "id": "70dde699",
   "metadata": {},
   "outputs": [],
   "source": [
    "df['pi_0'] = 100 * df['pi_0']\n",
    "df['pi_1'] = 100 * df['pi_1']"
   ]
  },
  {
   "cell_type": "code",
   "execution_count": 29,
   "id": "b2664c98",
   "metadata": {},
   "outputs": [],
   "source": [
    "etas = [f'eta_{i}' for i in list(range(1, 10)) + [11]]\n",
    "pis = ['pi_0', 'pi_1']"
   ]
  },
  {
   "cell_type": "code",
   "execution_count": 30,
   "id": "c53f25df",
   "metadata": {},
   "outputs": [],
   "source": [
    "var_desc = {\n",
    "    'eta_1': 'Size of Ancient Modern Humans',\n",
    "    'eta_2': 'Size of Out-of-Africa Humans',\n",
    "    'eta_3': 'Size of Yoruba',\n",
    "    'eta_4': 'Size of French after Out-of-Africa',\n",
    "    'eta_5': 'Recent size of French',\n",
    "    'eta_6': 'Size of Papuan after Out-of-Africa',\n",
    "    'eta_7': 'Recent size of Papuan',\n",
    "    'eta_8': 'Size of Neanderthal-Denisovan Ancestor',\n",
    "    'eta_9': 'Size of Neanderthal',\n",
    "    'eta_11': 'Size of Denisovan',\n",
    "    'pi_0': 'Neanderthal Admixture proportion of OOA',\n",
    "    'pi_1': 'Denisovan Admixture proportion of Papuan'\n",
    "}"
   ]
  },
  {
   "cell_type": "code",
   "execution_count": 31,
   "id": "d742829d",
   "metadata": {},
   "outputs": [],
   "source": [
    "a = 0.05"
   ]
  },
  {
   "cell_type": "code",
   "execution_count": 32,
   "id": "0cb0ca33",
   "metadata": {},
   "outputs": [],
   "source": [
    "var_est = df.mean().to_dict()\n",
    "var_est = {i: var_est[i] for i in var_desc}\n",
    "var_25 = df.quantile(a / 2).to_dict()\n",
    "var_25 = {i: var_25[i] for i in var_desc}\n",
    "var_975 = df.quantile(1 - a / 2).to_dict()\n",
    "var_975 = {i: var_975[i] for i in var_desc}"
   ]
  },
  {
   "cell_type": "code",
   "execution_count": 33,
   "id": "2e3cfccf",
   "metadata": {},
   "outputs": [],
   "source": [
    "dx = pd.DataFrame({'desc': var_desc, 'Estimate': var_est, '25': var_25, '975': var_975})"
   ]
  },
  {
   "cell_type": "code",
   "execution_count": 34,
   "id": "f40c20cb",
   "metadata": {},
   "outputs": [],
   "source": [
    "theta_math = {}\n",
    "for var in var_desc:\n",
    "    v, i = var.split('_')\n",
    "    theta_math[var] = f'$\\mathbf{{\\{v}_{{{i}}}}}$'\n",
    "    \n",
    "dx = dx.rename(index=theta_math)"
   ]
  },
  {
   "cell_type": "code",
   "execution_count": 35,
   "id": "2f6e7624",
   "metadata": {},
   "outputs": [],
   "source": [
    "dx_eta = dx.iloc[:-2]\n",
    "dx_pi = dx.iloc[-2:]"
   ]
  },
  {
   "cell_type": "code",
   "execution_count": 36,
   "id": "b444c7a7",
   "metadata": {},
   "outputs": [],
   "source": [
    "dx_eta = dx_eta.style.format(\"{:.0f}\", subset=['Estimate', '25', '975']).to_latex()\n",
    "dx_pi = dx_pi.style.format(\"{:.2f}\\%\", subset=['Estimate', '25', '975']).to_latex()"
   ]
  },
  {
   "cell_type": "code",
   "execution_count": 37,
   "id": "d5e23716",
   "metadata": {},
   "outputs": [],
   "source": [
    "split_line = '\\\\\\\\\\n'"
   ]
  },
  {
   "cell_type": "code",
   "execution_count": 38,
   "id": "c2cd79bb",
   "metadata": {},
   "outputs": [],
   "source": [
    "dx_eta = dx_eta.split(split_line)\n",
    "dx_pi = dx_pi.split(split_line)"
   ]
  },
  {
   "cell_type": "code",
   "execution_count": 55,
   "id": "470434b8",
   "metadata": {},
   "outputs": [],
   "source": [
    "head = ['\\\\begin{tabular}{ll|rrr}\\n\\\\bfseries Parameter & \\\\bfseries Description & \\\\bfseries Estimate & \\\\bfseries 2.5\\% & \\\\bfseries 97.5\\% ']\n",
    "end = ['\\\\end{tabular}\\n']\n",
    "body = dx_eta[1:-1] + dx_pi[1:-1]\n",
    "body[0] = '\\hline\\hline\\n'+body[0]\n",
    "\n",
    "body = [body[0]] + ['\\hline\\n' + i for i in body[1:]]\n",
    "\n",
    "x = head + body + end\n",
    "x = split_line.join(x)"
   ]
  },
  {
   "cell_type": "code",
   "execution_count": 56,
   "id": "6559fa58",
   "metadata": {},
   "outputs": [],
   "source": [
    "capt = 'Estimated parameters along with their nonparametric bootstrap confidence intervals of the demography in Figure \\\\ref{fig:ch3:demo_OOA5}. '\n",
    "x = add_captions(x, capt, 'tbl:ch3:OOA5est')"
   ]
  },
  {
   "cell_type": "code",
   "execution_count": 57,
   "id": "ae4be030",
   "metadata": {},
   "outputs": [],
   "source": [
    "text_file = open(f\"{dissertation_dir}tables/OOA5_estimates.tex\", \"w\")\n",
    "n = text_file.write(x)\n",
    "text_file.close()"
   ]
  }
 ],
 "metadata": {
  "kernelspec": {
   "display_name": "Python 3 (ipykernel)",
   "language": "python",
   "name": "python3"
  },
  "language_info": {
   "codemirror_mode": {
    "name": "ipython",
    "version": 3
   },
   "file_extension": ".py",
   "mimetype": "text/x-python",
   "name": "python",
   "nbconvert_exporter": "python",
   "pygments_lexer": "ipython3",
   "version": "3.10.6"
  }
 },
 "nbformat": 4,
 "nbformat_minor": 5
}

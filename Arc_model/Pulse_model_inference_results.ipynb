{
 "cells": [
  {
   "cell_type": "code",
   "execution_count": 11,
   "id": "2ed75849",
   "metadata": {},
   "outputs": [],
   "source": [
    "import os\n",
    "os.environ[\"XLA_PYTHON_CLIENT_MEM_FRACTION\"] = \"1.\"\n",
    "os.environ[\"XLA_PYTHON_CLIENT_PREALLOCATE\"] = \"true\"\n",
    "# import jax\n",
    "# jax.config.update('jax_platform_name', 'cpu')\n",
    "# jax.devices()"
   ]
  },
  {
   "cell_type": "code",
   "execution_count": 12,
   "id": "aa99b38e",
   "metadata": {
    "scrolled": true
   },
   "outputs": [],
   "source": [
    "import jax\n",
    "import optax\n",
    "\n",
    "import demes, demesdraw, sparse\n",
    "import matplotlib.pyplot as plt\n",
    "import numpy as np\n",
    "import pandas as pd\n",
    "\n",
    "\n",
    "from momi3.Params import Params\n",
    "from momi3.MOMI import Momi\n",
    "from momi3.optimizers import optax_for_momi\n",
    "from momi3.utils import bootstrap_sample\n",
    "\n",
    "import re\n",
    "import math\n",
    "import pickle\n",
    "import tskit\n",
    "\n",
    "from tqdm.notebook import tqdm, trange\n",
    "\n",
    "from scipy import stats, optimize\n",
    "import numpy as np\n",
    "import jax.numpy as jnp\n",
    "\n",
    "from ast import literal_eval\n",
    "\n",
    "from train import get_demo, get_params"
   ]
  },
  {
   "cell_type": "code",
   "execution_count": 13,
   "id": "22a097c0",
   "metadata": {},
   "outputs": [],
   "source": [
    "jsfs = np.load('jsfs_UNIF_Yoruba_French_Papuan_Vindija_Denisovan_3419145_108.npy')"
   ]
  },
  {
   "cell_type": "code",
   "execution_count": 14,
   "id": "bf737668",
   "metadata": {},
   "outputs": [],
   "source": [
    "sampled_demes = ('Yoruba', 'French', 'Papuan', 'Vindija', 'Denisovan')\n",
    "sample_sizes = [i - 1 for i in jsfs.shape]"
   ]
  },
  {
   "cell_type": "code",
   "execution_count": 15,
   "id": "efbca053",
   "metadata": {},
   "outputs": [
    {
     "name": "stdout",
     "output_type": "stream",
     "text": [
      "sample sizes\n",
      "Yoruba: 214\n",
      "French: 56\n",
      "Papuan: 30\n",
      "Vindija: 2\n",
      "Denisovan: 2\n"
     ]
    }
   ],
   "source": [
    "print('sample sizes')\n",
    "for i, j in zip(sampled_demes, sample_sizes):\n",
    "    print(f\"{i}: {j}\")"
   ]
  },
  {
   "cell_type": "code",
   "execution_count": 16,
   "id": "cdce01d5",
   "metadata": {},
   "outputs": [
    {
     "name": "stdout",
     "output_type": "stream",
     "text": [
      "# Number of SNPs: 29.9 Millions\n"
     ]
    }
   ],
   "source": [
    "print(f'# Number of SNPs: {jsfs.sum()/1e6:.1f} Millions')"
   ]
  },
  {
   "cell_type": "code",
   "execution_count": 17,
   "id": "781c542c",
   "metadata": {},
   "outputs": [
    {
     "name": "stdout",
     "output_type": "stream",
     "text": [
      "# Non-zero SFS entries: 453047\n"
     ]
    }
   ],
   "source": [
    "print(f'# Non-zero SFS entries: {(jsfs != 0).sum()}')"
   ]
  },
  {
   "cell_type": "code",
   "execution_count": 18,
   "id": "af20c0d5",
   "metadata": {},
   "outputs": [],
   "source": [
    "demo = get_demo('pulse')"
   ]
  },
  {
   "cell_type": "code",
   "execution_count": null,
   "id": "16305845",
   "metadata": {},
   "outputs": [],
   "source": []
  },
  {
   "cell_type": "code",
   "execution_count": 37,
   "id": "837e10c8",
   "metadata": {},
   "outputs": [
    {
     "data": {
      "text/plain": [
       "51214224.0"
      ]
     },
     "execution_count": 37,
     "metadata": {},
     "output_type": "execute_result"
    }
   ],
   "source": [
    "min(ret['history']['LLs'])"
   ]
  },
  {
   "cell_type": "code",
   "execution_count": 34,
   "id": "809f05bd",
   "metadata": {},
   "outputs": [
    {
     "data": {
      "text/plain": [
       "51214164.0"
      ]
     },
     "execution_count": 34,
     "metadata": {},
     "output_type": "execute_result"
    }
   ],
   "source": [
    "min(ret['history']['LLs'])"
   ]
  },
  {
   "cell_type": "code",
   "execution_count": 33,
   "id": "90aa7eb2",
   "metadata": {},
   "outputs": [],
   "source": [
    "ind = np.argmin(ret['history']['LLs'])\n",
    "ttd = ret['history']['ttds'][ind]"
   ]
  },
  {
   "cell_type": "code",
   "execution_count": null,
   "id": "194cd06d",
   "metadata": {},
   "outputs": [],
   "source": []
  },
  {
   "cell_type": "code",
   "execution_count": 25,
   "id": "815a90c3",
   "metadata": {},
   "outputs": [],
   "source": [
    "momi = Momi(demo, sampled_demes, sample_sizes, jitted=True)"
   ]
  },
  {
   "cell_type": "code",
   "execution_count": 26,
   "id": "1da6adf9",
   "metadata": {},
   "outputs": [
    {
     "name": "stdout",
     "output_type": "stream",
     "text": [
      "ancestral size: 7310.0\n"
     ]
    }
   ],
   "source": [
    "params = Params(momi)\n",
    "params.set_train_all_etas(True)\n",
    "params.set_train_all_pis(True)\n",
    "params.set_train('eta_0', False) # Ancestral pop size is not inferred\n",
    "print(f\"ancestral size: {params['eta_0']}\")"
   ]
  },
  {
   "cell_type": "code",
   "execution_count": 27,
   "id": "47366859",
   "metadata": {},
   "outputs": [],
   "source": [
    "params.set_optimization_results(ttd)"
   ]
  },
  {
   "cell_type": "code",
   "execution_count": 28,
   "id": "75676228",
   "metadata": {},
   "outputs": [],
   "source": [
    "params.set_train('eta_12', False)\n",
    "params.set_train('eta_10', False)"
   ]
  },
  {
   "cell_type": "code",
   "execution_count": 29,
   "id": "96bfd0c6",
   "metadata": {
    "scrolled": false
   },
   "outputs": [
    {
     "data": {
      "image/png": "[encoded data removed]",
      "text/plain": [
       "<Figure size 800x800 with 1 Axes>"
      ]
     },
     "metadata": {},
     "output_type": "display_data"
    }
   ],
   "source": [
    "fig, ax = plt.subplots(1, 1, figsize=(8, 8))\n",
    "params.tubes(True, False, log_time=False, hide_non_inferreds=True, fontsize=10, ax=ax)\n",
    "plt.savefig('spgpu05.pdf', format='pdf')"
   ]
  },
  {
   "cell_type": "code",
   "execution_count": 16,
   "id": "d02e186e",
   "metadata": {},
   "outputs": [],
   "source": [
    "inferred_demo = params.demo_graph"
   ]
  },
  {
   "cell_type": "code",
   "execution_count": 19,
   "id": "134f87cb",
   "metadata": {},
   "outputs": [],
   "source": [
    "demes.dump(inferred_demo, filename='arc5_pulse_inferred.yaml', format='yaml', simplified=False)"
   ]
  },
  {
   "cell_type": "markdown",
   "id": "eb102b63",
   "metadata": {},
   "source": [
    "# Sampled model"
   ]
  },
  {
   "cell_type": "code",
   "execution_count": 48,
   "id": "ab4b6fd2",
   "metadata": {},
   "outputs": [],
   "source": [
    "demo = get_demo('pulse')"
   ]
  },
  {
   "cell_type": "code",
   "execution_count": 49,
   "id": "0bd91509",
   "metadata": {},
   "outputs": [],
   "source": [
    "#jsfs = bootstrap_sample(jsfs, int(1e6))"
   ]
  },
  {
   "cell_type": "code",
   "execution_count": 50,
   "id": "c6eca93f",
   "metadata": {},
   "outputs": [],
   "source": [
    "\n",
    "\n",
    "sampled_n_dict = dict(zip(sampled_demes, sample_sizes))"
   ]
  },
  {
   "cell_type": "markdown",
   "id": "84c1dfe9",
   "metadata": {},
   "source": [
    "## Infer pop sizes"
   ]
  },
  {
   "cell_type": "code",
   "execution_count": 51,
   "id": "0aa01ac9",
   "metadata": {},
   "outputs": [
    {
     "data": {
      "text/plain": [
       "453050"
      ]
     },
     "execution_count": 51,
     "metadata": {},
     "output_type": "execute_result"
    }
   ],
   "source": [
    "nnz = (jsfs != 0).sum() + 3\n",
    "nnz"
   ]
  },
  {
   "cell_type": "code",
   "execution_count": 52,
   "id": "68002d60",
   "metadata": {},
   "outputs": [
    {
     "data": {
      "text/plain": [
       "64721.42857142857"
      ]
     },
     "execution_count": 52,
     "metadata": {},
     "output_type": "execute_result"
    }
   ],
   "source": [
    "nnz / 7"
   ]
  },
  {
   "cell_type": "code",
   "execution_count": 53,
   "id": "8ebe8e28",
   "metadata": {},
   "outputs": [],
   "source": [
    "momi = Momi(demo, sampled_demes, sample_sizes, jitted=True, batch_size=65000, low_memory=True)"
   ]
  },
  {
   "cell_type": "code",
   "execution_count": 54,
   "id": "694944b8",
   "metadata": {},
   "outputs": [],
   "source": [
    "params = Params(momi)"
   ]
  },
  {
   "cell_type": "code",
   "execution_count": 55,
   "id": "bb917f49",
   "metadata": {},
   "outputs": [],
   "source": [
    "bounds = momi.bound_sampler(params, 1000, min_lineages=2)\n",
    "momi = momi.bound(bounds)"
   ]
  },
  {
   "cell_type": "code",
   "execution_count": 56,
   "id": "6bf30242",
   "metadata": {},
   "outputs": [
    {
     "name": "stdout",
     "output_type": "stream",
     "text": [
      "ancestral size: 7310.0\n"
     ]
    }
   ],
   "source": [
    "params.set_train_all_etas(True)\n",
    "params.set_train_all_pis(True)\n",
    "params.set_train('eta_0', False) # We will not infer the size of ancestral pop\n",
    "print(f\"ancestral size: {params['eta_0']}\")"
   ]
  },
  {
   "cell_type": "code",
   "execution_count": 71,
   "id": "3aef1930",
   "metadata": {},
   "outputs": [],
   "source": [
    "def get_lr_vector(theta_train_dict, lr, transformed=True):\n",
    "    train_keys = tuple(theta_train_dict)\n",
    "    lr_vec = []\n",
    "    for i in train_keys:\n",
    "        if i.find('eta') != -1:\n",
    "            lr_vec.append(lr * 100)\n",
    "        elif i.find('pi') != -1:\n",
    "            lr_vec.append(lr)\n",
    "\n",
    "    return jnp.array(lr_vec)"
   ]
  },
  {
   "cell_type": "code",
   "execution_count": 79,
   "id": "60d5266f",
   "metadata": {},
   "outputs": [],
   "source": [
    "lr = 0.05"
   ]
  },
  {
   "cell_type": "code",
   "execution_count": 85,
   "id": "8eddad7a",
   "metadata": {},
   "outputs": [
    {
     "data": {
      "text/plain": [
       "Array([5.  , 5.  , 5.  , 5.  , 5.  , 5.  , 5.  , 5.  , 5.  , 5.  , 5.  ,\n",
       "       5.  , 0.05, 0.05], dtype=float32)"
      ]
     },
     "execution_count": 85,
     "metadata": {},
     "output_type": "execute_result"
    }
   ],
   "source": [
    "lr_vec"
   ]
  },
  {
   "cell_type": "code",
   "execution_count": 80,
   "id": "c940b0fd",
   "metadata": {},
   "outputs": [],
   "source": [
    "transformed = True\n",
    "\n",
    "theta_train_dict = params.theta_train_dict(transformed)\n",
    "lr_vec = get_lr_vector(theta_train_dict, lr)\n",
    "optimizer = optax.adabelief(learning_rate=lr_vec)\n",
    "\n",
    "theta_train = jnp.array(list(theta_train_dict.values()))\n",
    "opt_state = optimizer.init(theta_train)\n",
    "history = dict(LLs=[], ttds=[])"
   ]
  },
  {
   "cell_type": "code",
   "execution_count": 81,
   "id": "30a820f0",
   "metadata": {},
   "outputs": [
    {
     "data": {
      "text/plain": [
       "{'softplus(eta_1)': Array(19053.785, dtype=float32),\n",
       " 'softplus(eta_2)': Array(4317.0215, dtype=float32),\n",
       " 'softplus(eta_3)': Array(20673.04, dtype=float32),\n",
       " 'softplus(eta_4)': Array(4440.437, dtype=float32),\n",
       " 'softplus(eta_5)': Array(22714.848, dtype=float32),\n",
       " 'softplus(eta_6)': Array(2394.9377, dtype=float32),\n",
       " 'softplus(eta_7)': Array(4582.5347, dtype=float32),\n",
       " 'softplus(eta_8)': Array(5014.166, dtype=float32),\n",
       " 'softplus(eta_9)': Array(5803.2114, dtype=float32),\n",
       " 'softplus(eta_10)': Array(29.49204, dtype=float32),\n",
       " 'softplus(eta_11)': Array(6040.512, dtype=float32),\n",
       " 'softplus(eta_12)': Array(26.488695, dtype=float32),\n",
       " 'logit(pi_0)': Array(-2.944439, dtype=float32),\n",
       " 'logit(pi_1)': Array(-3.6635616, dtype=float32)}"
      ]
     },
     "execution_count": 81,
     "metadata": {},
     "output_type": "execute_result"
    }
   ],
   "source": [
    "dict(zip(tuple(theta_train_dict), theta_train))"
   ]
  },
  {
   "cell_type": "code",
   "execution_count": 82,
   "id": "2af98a7c",
   "metadata": {},
   "outputs": [
    {
     "data": {
      "application/json": {
       "ascii": false,
       "bar_format": null,
       "colour": null,
       "elapsed": 0.01737689971923828,
       "initial": 0,
       "n": 0,
       "ncols": null,
       "nrows": 19,
       "postfix": null,
       "prefix": "",
       "rate": null,
       "total": 5,
       "unit": "it",
       "unit_divisor": 1000,
       "unit_scale": false
      },
      "application/vnd.jupyter.widget-view+json": {
       "model_id": "ee52a1b4190141b4bca31084a5b15707",
       "version_major": 2,
       "version_minor": 0
      },
      "text/plain": [
       "  0%|          | 0/5 [00:00<?, ?it/s]"
      ]
     },
     "metadata": {},
     "output_type": "display_data"
    }
   ],
   "source": [
    "theta_train_dict, opt_state, history = optax_for_momi(\n",
    "    optimizer,\n",
    "    momi,\n",
    "    params,\n",
    "    jsfs,\n",
    "    niter=5,\n",
    "    transformed=transformed,\n",
    "    theta_train_dict=theta_train_dict,\n",
    "    opt_state=opt_state,\n",
    "    history=history\n",
    ")"
   ]
  },
  {
   "cell_type": "code",
   "execution_count": 83,
   "id": "adcec756",
   "metadata": {},
   "outputs": [
    {
     "data": {
      "text/plain": [
       "{'softplus(eta_1)': Array(19026.193, dtype=float32),\n",
       " 'softplus(eta_2)': Array(4289.644, dtype=float32),\n",
       " 'softplus(eta_3)': Array(20700.596, dtype=float32),\n",
       " 'softplus(eta_4)': Array(4468.1123, dtype=float32),\n",
       " 'softplus(eta_5)': Array(22738.895, dtype=float32),\n",
       " 'softplus(eta_6)': Array(2368.0388, dtype=float32),\n",
       " 'softplus(eta_7)': Array(4555.9404, dtype=float32),\n",
       " 'softplus(eta_8)': Array(4986.6064, dtype=float32),\n",
       " 'softplus(eta_9)': Array(5777.4453, dtype=float32),\n",
       " 'softplus(eta_10)': Array(34.085243, dtype=float32),\n",
       " 'softplus(eta_11)': Array(6019.2573, dtype=float32),\n",
       " 'softplus(eta_12)': Array(25.101843, dtype=float32),\n",
       " 'logit(pi_0)': Array(-3.212416, dtype=float32),\n",
       " 'logit(pi_1)': Array(-3.9200664, dtype=float32)}"
      ]
     },
     "execution_count": 83,
     "metadata": {},
     "output_type": "execute_result"
    }
   ],
   "source": [
    "theta_train_dict"
   ]
  },
  {
   "cell_type": "code",
   "execution_count": null,
   "id": "ab78bd7a",
   "metadata": {},
   "outputs": [],
   "source": []
  },
  {
   "cell_type": "code",
   "execution_count": 76,
   "id": "333744bb",
   "metadata": {},
   "outputs": [
    {
     "name": "stdout",
     "output_type": "stream",
     "text": [
      "CPU times: user 15.4 s, sys: 755 ms, total: 16.2 s\n",
      "Wall time: 16.1 s\n"
     ]
    }
   ],
   "source": [
    "%%time\n",
    "v, g = momi.loglik_with_gradient(params, jsfs, transformed=True)"
   ]
  },
  {
   "cell_type": "code",
   "execution_count": null,
   "id": "87bf78a8",
   "metadata": {},
   "outputs": [
    {
     "data": {
      "application/json": {
       "ascii": false,
       "bar_format": null,
       "colour": null,
       "elapsed": 0.03281354904174805,
       "initial": 0,
       "n": 0,
       "ncols": null,
       "nrows": 19,
       "postfix": null,
       "prefix": "",
       "rate": null,
       "total": 100,
       "unit": "it",
       "unit_divisor": 1000,
       "unit_scale": false
      },
      "application/vnd.jupyter.widget-view+json": {
       "model_id": "ba430a7ce3b445678c6e4907692561d5",
       "version_major": 2,
       "version_minor": 0
      },
      "text/plain": [
       "  0%|          | 0/100 [00:00<?, ?it/s]"
      ]
     },
     "metadata": {},
     "output_type": "display_data"
    }
   ],
   "source": [
    "# Training\n",
    "theta_train_dict, opt_state, history = optax_for_momi(\n",
    "    optimizer, momi, params, jsfs, niter=100, transformed=True, \n",
    "    theta_train_dict=theta_train_dict,\n",
    "    opt_state=opt_state, history=history)"
   ]
  },
  {
   "cell_type": "code",
   "execution_count": 87,
   "id": "c489bdf5",
   "metadata": {},
   "outputs": [
    {
     "data": {
      "text/plain": [
       "[<matplotlib.lines.Line2D at 0x7fa31c6c14e0>]"
      ]
     },
     "execution_count": 87,
     "metadata": {},
     "output_type": "execute_result"
    },
    {
     "data": {
      "image/png": "[encoded data removed]",
      "text/plain": [
       "<Figure size 640x480 with 1 Axes>"
      ]
     },
     "metadata": {},
     "output_type": "display_data"
    }
   ],
   "source": [
    "plt.plot(history['LLs'])"
   ]
  },
  {
   "cell_type": "code",
   "execution_count": 88,
   "id": "a5fa0ff0",
   "metadata": {},
   "outputs": [
    {
     "data": {
      "text/plain": [
       "{'logit(pi_0)': Array(-3.4554625, dtype=float32),\n",
       " 'logit(pi_1)': Array(-3.7009048, dtype=float32),\n",
       " 'softplus(eta_1)': Array(18988.25, dtype=float32),\n",
       " 'softplus(eta_10)': Array(31.495607, dtype=float32),\n",
       " 'softplus(eta_11)': Array(5540.601, dtype=float32),\n",
       " 'softplus(eta_12)': Array(27.59023, dtype=float32),\n",
       " 'softplus(eta_2)': Array(3830.0425, dtype=float32),\n",
       " 'softplus(eta_3)': Array(21408.549, dtype=float32),\n",
       " 'softplus(eta_4)': Array(5044.6113, dtype=float32),\n",
       " 'softplus(eta_5)': Array(22907.314, dtype=float32),\n",
       " 'softplus(eta_6)': Array(2113.4006, dtype=float32),\n",
       " 'softplus(eta_7)': Array(4382.2676, dtype=float32),\n",
       " 'softplus(eta_8)': Array(4340.695, dtype=float32),\n",
       " 'softplus(eta_9)': Array(4958.754, dtype=float32)}"
      ]
     },
     "execution_count": 88,
     "metadata": {},
     "output_type": "execute_result"
    }
   ],
   "source": [
    "theta_train_dict"
   ]
  },
  {
   "cell_type": "code",
   "execution_count": 89,
   "id": "3d0403f1",
   "metadata": {},
   "outputs": [],
   "source": [
    "params.set_optimization_results(theta_train_dict)"
   ]
  },
  {
   "cell_type": "code",
   "execution_count": 91,
   "id": "82ce7d42",
   "metadata": {},
   "outputs": [
    {
     "data": {
      "image/png": "[encoded data removed]",
      "text/plain": [
       "<Figure size 853.333x480 with 1 Axes>"
      ]
     },
     "metadata": {},
     "output_type": "display_data"
    }
   ],
   "source": [
    "params.tubes(True, True, log_time=True, hide_non_inferreds=True, fontsize=10)"
   ]
  },
  {
   "cell_type": "code",
   "execution_count": 29,
   "id": "eb8e464b",
   "metadata": {},
   "outputs": [],
   "source": [
    "inferred_demo = params.demo_graph"
   ]
  },
  {
   "cell_type": "code",
   "execution_count": 35,
   "id": "1a5d6778",
   "metadata": {},
   "outputs": [],
   "source": [
    "demes.dump(inferred_demo, filename='arc5_pop_size_inferred.yaml', format='yaml', simplified=False)"
   ]
  },
  {
   "cell_type": "markdown",
   "id": "44b60924",
   "metadata": {},
   "source": [
    "## Infer admixture params"
   ]
  },
  {
   "cell_type": "code",
   "execution_count": 14,
   "id": "fb9f29eb",
   "metadata": {},
   "outputs": [],
   "source": [
    "jsfs = np.load('jsfs_UNIF_Yoruba_French_Papuan_Vindija_Denisovan_11979_108.npy')\n",
    "jsfs = bootstrap_sample(jsfs, n_SNPs=10000, seed=108)"
   ]
  },
  {
   "cell_type": "code",
   "execution_count": 15,
   "id": "5404d037",
   "metadata": {},
   "outputs": [],
   "source": [
    "demo = get_demo('pulse')"
   ]
  },
  {
   "cell_type": "code",
   "execution_count": 16,
   "id": "15ada0f4",
   "metadata": {},
   "outputs": [],
   "source": [
    "sampled_demes = ('Yoruba', 'French', 'Papuan', 'Vindija', 'Denisovan')\n",
    "sample_sizes = [10, 10, 10, 2, 2] # Sampled 50 from YRI and French"
   ]
  },
  {
   "cell_type": "code",
   "execution_count": 17,
   "id": "6a4df391",
   "metadata": {},
   "outputs": [],
   "source": [
    "momi = Momi(demo, sampled_demes, sample_sizes, jitted=True)"
   ]
  },
  {
   "cell_type": "code",
   "execution_count": 29,
   "id": "4b24d7fb",
   "metadata": {},
   "outputs": [],
   "source": [
    "params = Params(momi)\n",
    "params.set_train_all_pis(True)"
   ]
  },
  {
   "cell_type": "code",
   "execution_count": 53,
   "id": "37d0f24f",
   "metadata": {},
   "outputs": [],
   "source": [
    "# Initilize OPTAX parameters\n",
    "optimizer = optax.adam(learning_rate=0.01)\n",
    "theta_train_dict = params.theta_train_dict(True)\n",
    "opt_state = optimizer.init(theta_train_dict)"
   ]
  },
  {
   "cell_type": "code",
   "execution_count": 54,
   "id": "86f87e19",
   "metadata": {},
   "outputs": [],
   "source": [
    "LL = []"
   ]
  },
  {
   "cell_type": "code",
   "execution_count": 57,
   "id": "bf5e7ed9",
   "metadata": {},
   "outputs": [
    {
     "data": {
      "application/json": {
       "ascii": false,
       "bar_format": null,
       "colour": null,
       "elapsed": 0.03240323066711426,
       "initial": 0,
       "n": 0,
       "ncols": null,
       "nrows": 19,
       "postfix": null,
       "prefix": "",
       "rate": null,
       "total": 500,
       "unit": "it",
       "unit_divisor": 1000,
       "unit_scale": false
      },
      "application/vnd.jupyter.widget-view+json": {
       "model_id": "9e9974c061244f9e8b2fde5d54b67312",
       "version_major": 2,
       "version_minor": 0
      },
      "text/plain": [
       "  0%|          | 0/500 [00:00<?, ?it/s]"
      ]
     },
     "metadata": {},
     "output_type": "display_data"
    }
   ],
   "source": [
    "# Training\n",
    "theta_train_dict, opt_state, LL = optax_for_momi(\n",
    "    optimizer, momi, params, jsfs, niter=500, transformed=True, \n",
    "    theta_train_dict=theta_train_dict,\n",
    "    opt_state=opt_state,\n",
    "    LL=LL\n",
    ")"
   ]
  },
  {
   "cell_type": "code",
   "execution_count": 58,
   "id": "e2616747",
   "metadata": {},
   "outputs": [
    {
     "data": {
      "text/plain": [
       "[<matplotlib.lines.Line2D at 0x7f7e206a7a60>]"
      ]
     },
     "execution_count": 58,
     "metadata": {},
     "output_type": "execute_result"
    },
    {
     "data": {
      "image/png": "[encoded data removed]",
      "text/plain": [
       "<Figure size 640x480 with 1 Axes>"
      ]
     },
     "metadata": {},
     "output_type": "display_data"
    }
   ],
   "source": [
    "plt.plot(LL)"
   ]
  },
  {
   "cell_type": "code",
   "execution_count": 60,
   "id": "50a3f21e",
   "metadata": {},
   "outputs": [],
   "source": [
    "params.set_optimization_results(theta_train_dict)"
   ]
  },
  {
   "cell_type": "code",
   "execution_count": 61,
   "id": "b0273cee",
   "metadata": {},
   "outputs": [
    {
     "data": {
      "text/html": [
       "\n",
       "<div style=\"display: inline-block; width: 30%;\">\n",
       "    <a href=\"https://github.com/jthlab/momi3\" target=\"_blank\">SOURCE CODE</a> <a href=\"https://thumbs.gfycat.com/LastBrilliantElk-mobile.mp4\" target=\"_blank\">PAPER</a>\n",
       "    <br>\n",
       "    <img src=\"https://enesdilber.github.io/momilogo.png\" style=\"width:75px;height:52px;\">\n",
       "    <table border=\"1\" style=\"width: 100%;\">\n",
       "    <caption><h4>Size Parameters</h4></caption>\n",
       "    <thead>\n",
       "        <tr style=\"text-align: right;\">\n",
       "            <th >Parameter</th>\n",
       "            <th >Value</th>\n",
       "            <th >Infer</th>\n",
       "        </tr>\n",
       "    </thead>\n",
       "    <tbody>\n",
       "    <tr>\n",
       "<td style=\"text-align:left; font-family:'Lucida Console'\">&#951<sub>0</sub></td>\n",
       "<td style=\"font-family:'Lucida Console'\">7.31e+03</td>\n",
       "<td style=\"\">&#10060</td>\n",
       "</tr>\n",
       "<tr>\n",
       "<td style=\"text-align:left; font-family:'Lucida Console'\">&#951<sub>10</sub></td>\n",
       "<td style=\"font-family:'Lucida Console'\">29.5</td>\n",
       "<td style=\"\">&#10060</td>\n",
       "</tr>\n",
       "<tr>\n",
       "<td style=\"text-align:left; font-family:'Lucida Console'\">&#951<sub>11</sub></td>\n",
       "<td style=\"font-family:'Lucida Console'\">6.04e+03</td>\n",
       "<td style=\"\">&#10060</td>\n",
       "</tr>\n",
       "<tr>\n",
       "<td style=\"text-align:left; font-family:'Lucida Console'\">&#951<sub>12</sub></td>\n",
       "<td style=\"font-family:'Lucida Console'\">26.5</td>\n",
       "<td style=\"\">&#10060</td>\n",
       "</tr>\n",
       "<tr>\n",
       "<td style=\"text-align:left; font-family:'Lucida Console'\">&#951<sub>1</sub></td>\n",
       "<td style=\"font-family:'Lucida Console'\">1.91e+04</td>\n",
       "<td style=\"\">&#10060</td>\n",
       "</tr>\n",
       "<tr>\n",
       "<td style=\"text-align:left; font-family:'Lucida Console'\">&#951<sub>2</sub></td>\n",
       "<td style=\"font-family:'Lucida Console'\">4.32e+03</td>\n",
       "<td style=\"\">&#10060</td>\n",
       "</tr>\n",
       "<tr>\n",
       "<td style=\"text-align:left; font-family:'Lucida Console'\">&#951<sub>3</sub></td>\n",
       "<td style=\"font-family:'Lucida Console'\">2.07e+04</td>\n",
       "<td style=\"\">&#10060</td>\n",
       "</tr>\n",
       "<tr>\n",
       "<td style=\"text-align:left; font-family:'Lucida Console'\">&#951<sub>4</sub></td>\n",
       "<td style=\"font-family:'Lucida Console'\">4.44e+03</td>\n",
       "<td style=\"\">&#10060</td>\n",
       "</tr>\n",
       "<tr>\n",
       "<td style=\"text-align:left; font-family:'Lucida Console'\">&#951<sub>5</sub></td>\n",
       "<td style=\"font-family:'Lucida Console'\">2.27e+04</td>\n",
       "<td style=\"\">&#10060</td>\n",
       "</tr>\n",
       "<tr>\n",
       "<td style=\"text-align:left; font-family:'Lucida Console'\">&#951<sub>6</sub></td>\n",
       "<td style=\"font-family:'Lucida Console'\">2.39e+03</td>\n",
       "<td style=\"\">&#10060</td>\n",
       "</tr>\n",
       "<tr>\n",
       "<td style=\"text-align:left; font-family:'Lucida Console'\">&#951<sub>7</sub></td>\n",
       "<td style=\"font-family:'Lucida Console'\">4.58e+03</td>\n",
       "<td style=\"\">&#10060</td>\n",
       "</tr>\n",
       "<tr>\n",
       "<td style=\"text-align:left; font-family:'Lucida Console'\">&#951<sub>8</sub></td>\n",
       "<td style=\"font-family:'Lucida Console'\">5.01e+03</td>\n",
       "<td style=\"\">&#10060</td>\n",
       "</tr>\n",
       "<tr>\n",
       "<td style=\"text-align:left; font-family:'Lucida Console'\">&#951<sub>9</sub></td>\n",
       "<td style=\"font-family:'Lucida Console'\">5.8e+03</td>\n",
       "<td style=\"\">&#10060</td>\n",
       "</tr>\n",
       "\n",
       "    </tbody>\n",
       "    </table>\n",
       "    <table border=\"1\" style=\"width: 100%;\">\n",
       "    <caption><h4>Rate Parameters</h4></caption>\n",
       "    <thead>\n",
       "        <tr style=\"text-align: right;\">\n",
       "            <th >Parameter</th>\n",
       "            <th >Value</th>\n",
       "            <th >Infer</th>\n",
       "        </tr>\n",
       "    </thead>\n",
       "    <tbody>\n",
       "    \n",
       "    </tbody>\n",
       "    </table>\n",
       "    <table border=\"1\" style=\"width: 100%;\">\n",
       "    <caption><h4>Proportion Parameters</h4></caption>\n",
       "    <thead>\n",
       "        <tr style=\"text-align: right;\">\n",
       "            <th >Parameter</th>\n",
       "            <th >Value</th>\n",
       "            <th >Infer</th>\n",
       "        </tr>\n",
       "    </thead>\n",
       "    <tbody>\n",
       "    <tr>\n",
       "<td style=\"text-align:left; font-family:'Lucida Console'\">&#960<sub>0</sub></td>\n",
       "<td style=\"font-family:'Lucida Console'\">0.0273</td>\n",
       "<td style=\"\">&#9989</td>\n",
       "</tr>\n",
       "<tr>\n",
       "<td style=\"text-align:left; font-family:'Lucida Console'\">&#960<sub>1</sub></td>\n",
       "<td style=\"font-family:'Lucida Console'\">0.00917</td>\n",
       "<td style=\"\">&#9989</td>\n",
       "</tr>\n",
       "\n",
       "    </tbody>\n",
       "    </table>\n",
       "    <table border=\"1\" style=\"width: 100%;\">\n",
       "    <caption><h4>Time Parameters</h4></caption>\n",
       "    <thead>\n",
       "        <tr style=\"text-align: right;\">\n",
       "            <th >Parameter</th>\n",
       "            <th >Value</th>\n",
       "            <th >Infer</th>\n",
       "        </tr>\n",
       "    </thead>\n",
       "    <tbody>\n",
       "    <tr>\n",
       "<td style=\"text-align:left; font-family:'Lucida Console'\">&#964<sub>0</sub></td>\n",
       "<td style=\"font-family:'Lucida Console'\">0</td>\n",
       "<td style=\"\">&#10060</td>\n",
       "</tr>\n",
       "<tr>\n",
       "<td style=\"text-align:left; font-family:'Lucida Console'\">&#964<sub>10</sub></td>\n",
       "<td style=\"font-family:'Lucida Console'\">1.25e+04</td>\n",
       "<td style=\"\">&#10060</td>\n",
       "</tr>\n",
       "<tr>\n",
       "<td style=\"text-align:left; font-family:'Lucida Console'\">&#964<sub>1</sub></td>\n",
       "<td style=\"font-family:'Lucida Console'\">500</td>\n",
       "<td style=\"\">&#10060</td>\n",
       "</tr>\n",
       "<tr>\n",
       "<td style=\"text-align:left; font-family:'Lucida Console'\">&#964<sub>2</sub></td>\n",
       "<td style=\"font-family:'Lucida Console'\">1e+03</td>\n",
       "<td style=\"\">&#10060</td>\n",
       "</tr>\n",
       "<tr>\n",
       "<td style=\"text-align:left; font-family:'Lucida Console'\">&#964<sub>3</sub></td>\n",
       "<td style=\"font-family:'Lucida Console'\">2e+03</td>\n",
       "<td style=\"\">&#10060</td>\n",
       "</tr>\n",
       "<tr>\n",
       "<td style=\"text-align:left; font-family:'Lucida Console'\">&#964<sub>4</sub></td>\n",
       "<td style=\"font-family:'Lucida Console'\">2.1e+03</td>\n",
       "<td style=\"\">&#10060</td>\n",
       "</tr>\n",
       "<tr>\n",
       "<td style=\"text-align:left; font-family:'Lucida Console'\">&#964<sub>5</sub></td>\n",
       "<td style=\"font-family:'Lucida Console'\">2.5e+03</td>\n",
       "<td style=\"\">&#10060</td>\n",
       "</tr>\n",
       "<tr>\n",
       "<td style=\"text-align:left; font-family:'Lucida Console'\">&#964<sub>6</sub></td>\n",
       "<td style=\"font-family:'Lucida Console'\">2.6e+03</td>\n",
       "<td style=\"\">&#10060</td>\n",
       "</tr>\n",
       "<tr>\n",
       "<td style=\"text-align:left; font-family:'Lucida Console'\">&#964<sub>7</sub></td>\n",
       "<td style=\"font-family:'Lucida Console'\">3e+03</td>\n",
       "<td style=\"\">&#10060</td>\n",
       "</tr>\n",
       "<tr>\n",
       "<td style=\"text-align:left; font-family:'Lucida Console'\">&#964<sub>8</sub></td>\n",
       "<td style=\"font-family:'Lucida Console'\">5.92e+03</td>\n",
       "<td style=\"\">&#10060</td>\n",
       "</tr>\n",
       "<tr>\n",
       "<td style=\"text-align:left; font-family:'Lucida Console'\">&#964<sub>9</sub></td>\n",
       "<td style=\"font-family:'Lucida Console'\">9.15e+03</td>\n",
       "<td style=\"\">&#10060</td>\n",
       "</tr>\n",
       "\n",
       "    </tbody>\n",
       "    </table>\n",
       "    <table border=\"1\" style=\"width: 100%;\">\n",
       "    <caption><h4>Constraints</h4></caption>\n",
       "    <thead>\n",
       "        <tr style=\"text-align: left;\">\n",
       "            <th style=\"text-align:left;\">User Constraints</th>\n",
       "        </tr>\n",
       "    </thead>\n",
       "    <tbody>\n",
       "    \n",
       "    </tbody>\n",
       "    </table>\n",
       "</div>\n",
       "<div style=\"display: inline-block; width: 50%;\">\n",
       "<br>\n",
       "    <table border=\"1\" style=\"width: 100%;\">\n",
       "    <caption><h4>Parameter Locations</h4></caption>\n",
       "    <thead>\n",
       "        <tr>\n",
       "            <th style=\"text-align:left; width:80%\">Demes Parameter</th>\n",
       "            <th >Parameter</th>\n",
       "        </tr>\n",
       "    </thead>\n",
       "    <tbody>\n",
       "    <tr>\n",
       "<td style=\"text-align:left; font-family:'Lucida Console', monospace\">start_size of ancestral (epoch 0)</td>\n",
       "<td style=\"font-family:'Lucida Console'\">&#951<sub>0</sub></td>\n",
       "</tr>\n",
       "<tr>\n",
       "<td style=\"text-align:left; font-family:'Lucida Console', monospace\">end_size of ancestral (epoch 0)</td>\n",
       "<td style=\"font-family:'Lucida Console'\">&#951<sub>0</sub></td>\n",
       "</tr>\n",
       "<tr>\n",
       "<td style=\"text-align:left; font-family:'Lucida Console', monospace\">start_size of Vindija (epoch 0)</td>\n",
       "<td style=\"font-family:'Lucida Console'\">&#951<sub>10</sub></td>\n",
       "</tr>\n",
       "<tr>\n",
       "<td style=\"text-align:left; font-family:'Lucida Console', monospace\">end_size of Vindija (epoch 0)</td>\n",
       "<td style=\"font-family:'Lucida Console'\">&#951<sub>10</sub></td>\n",
       "</tr>\n",
       "<tr>\n",
       "<td style=\"text-align:left; font-family:'Lucida Console', monospace\">end_size of DenisovanGHOST (epoch 0)</td>\n",
       "<td style=\"font-family:'Lucida Console'\">&#951<sub>11</sub></td>\n",
       "</tr>\n",
       "<tr>\n",
       "<td style=\"text-align:left; font-family:'Lucida Console', monospace\">start_size of DenisovanGHOST (epoch 0)</td>\n",
       "<td style=\"font-family:'Lucida Console'\">&#951<sub>11</sub></td>\n",
       "</tr>\n",
       "<tr>\n",
       "<td style=\"text-align:left; font-family:'Lucida Console', monospace\">start_size of Denisovan (epoch 0)</td>\n",
       "<td style=\"font-family:'Lucida Console'\">&#951<sub>12</sub></td>\n",
       "</tr>\n",
       "<tr>\n",
       "<td style=\"text-align:left; font-family:'Lucida Console', monospace\">end_size of Denisovan (epoch 0)</td>\n",
       "<td style=\"font-family:'Lucida Console'\">&#951<sub>12</sub></td>\n",
       "</tr>\n",
       "<tr>\n",
       "<td style=\"text-align:left; font-family:'Lucida Console', monospace\">start_size of AMH (epoch 0)</td>\n",
       "<td style=\"font-family:'Lucida Console'\">&#951<sub>1</sub></td>\n",
       "</tr>\n",
       "<tr>\n",
       "<td style=\"text-align:left; font-family:'Lucida Console', monospace\">end_size of AMH (epoch 0)</td>\n",
       "<td style=\"font-family:'Lucida Console'\">&#951<sub>1</sub></td>\n",
       "</tr>\n",
       "<tr>\n",
       "<td style=\"text-align:left; font-family:'Lucida Console', monospace\">start_size of OOA (epoch 0)</td>\n",
       "<td style=\"font-family:'Lucida Console'\">&#951<sub>2</sub></td>\n",
       "</tr>\n",
       "<tr>\n",
       "<td style=\"text-align:left; font-family:'Lucida Console', monospace\">end_size of OOA (epoch 0)</td>\n",
       "<td style=\"font-family:'Lucida Console'\">&#951<sub>2</sub></td>\n",
       "</tr>\n",
       "<tr>\n",
       "<td style=\"text-align:left; font-family:'Lucida Console', monospace\">start_size of Yoruba (epoch 0)</td>\n",
       "<td style=\"font-family:'Lucida Console'\">&#951<sub>3</sub></td>\n",
       "</tr>\n",
       "<tr>\n",
       "<td style=\"text-align:left; font-family:'Lucida Console', monospace\">end_size of Yoruba (epoch 0)</td>\n",
       "<td style=\"font-family:'Lucida Console'\">&#951<sub>3</sub></td>\n",
       "</tr>\n",
       "<tr>\n",
       "<td style=\"text-align:left; font-family:'Lucida Console', monospace\">start_size of French (epoch 0)</td>\n",
       "<td style=\"font-family:'Lucida Console'\">&#951<sub>4</sub></td>\n",
       "</tr>\n",
       "<tr>\n",
       "<td style=\"text-align:left; font-family:'Lucida Console', monospace\">end_size of French (epoch 0)</td>\n",
       "<td style=\"font-family:'Lucida Console'\">&#951<sub>5</sub></td>\n",
       "</tr>\n",
       "<tr>\n",
       "<td style=\"text-align:left; font-family:'Lucida Console', monospace\">start_size of Papuan (epoch 0)</td>\n",
       "<td style=\"font-family:'Lucida Console'\">&#951<sub>6</sub></td>\n",
       "</tr>\n",
       "<tr>\n",
       "<td style=\"text-align:left; font-family:'Lucida Console', monospace\">end_size of Papuan (epoch 0)</td>\n",
       "<td style=\"font-family:'Lucida Console'\">&#951<sub>7</sub></td>\n",
       "</tr>\n",
       "<tr>\n",
       "<td style=\"text-align:left; font-family:'Lucida Console', monospace\">start_size of NeaDenAnc (epoch 0)</td>\n",
       "<td style=\"font-family:'Lucida Console'\">&#951<sub>8</sub></td>\n",
       "</tr>\n",
       "<tr>\n",
       "<td style=\"text-align:left; font-family:'Lucida Console', monospace\">end_size of NeaDenAnc (epoch 0)</td>\n",
       "<td style=\"font-family:'Lucida Console'\">&#951<sub>8</sub></td>\n",
       "</tr>\n",
       "<tr>\n",
       "<td style=\"text-align:left; font-family:'Lucida Console', monospace\">start_size of NeanderthalGHOST (epoch 0)</td>\n",
       "<td style=\"font-family:'Lucida Console'\">&#951<sub>9</sub></td>\n",
       "</tr>\n",
       "<tr>\n",
       "<td style=\"text-align:left; font-family:'Lucida Console', monospace\">end_size of NeanderthalGHOST (epoch 0)</td>\n",
       "<td style=\"font-family:'Lucida Console'\">&#951<sub>9</sub></td>\n",
       "</tr>\n",
       "<tr>\n",
       "<td style=\"text-align:left; font-family:'Lucida Console', monospace\">proportions of the pulse from NeanderthalGHOST to OOA</td>\n",
       "<td style=\"font-family:'Lucida Console'\">&#960<sub>0</sub></td>\n",
       "</tr>\n",
       "<tr>\n",
       "<td style=\"text-align:left; font-family:'Lucida Console', monospace\">proportions of the pulse from DenisovanGHOST to Papuan</td>\n",
       "<td style=\"font-family:'Lucida Console'\">&#960<sub>1</sub></td>\n",
       "</tr>\n",
       "<tr>\n",
       "<td style=\"text-align:left; font-family:'Lucida Console', monospace\">end_time of French (epoch 0)</td>\n",
       "<td style=\"font-family:'Lucida Console'\">&#964<sub>0</sub></td>\n",
       "</tr>\n",
       "<tr>\n",
       "<td style=\"text-align:left; font-family:'Lucida Console', monospace\">end_time of Papuan (epoch 0)</td>\n",
       "<td style=\"font-family:'Lucida Console'\">&#964<sub>0</sub></td>\n",
       "</tr>\n",
       "<tr>\n",
       "<td style=\"text-align:left; font-family:'Lucida Console', monospace\">end_time of Yoruba (epoch 0)</td>\n",
       "<td style=\"font-family:'Lucida Console'\">&#964<sub>0</sub></td>\n",
       "</tr>\n",
       "<tr>\n",
       "<td style=\"text-align:left; font-family:'Lucida Console', monospace\">start_time of NeaDenAnc</td>\n",
       "<td style=\"font-family:'Lucida Console'\">&#964<sub>10</sub></td>\n",
       "</tr>\n",
       "<tr>\n",
       "<td style=\"text-align:left; font-family:'Lucida Console', monospace\">end_time of DenisovanGHOST (epoch 0)</td>\n",
       "<td style=\"font-family:'Lucida Console'\">&#964<sub>1</sub></td>\n",
       "</tr>\n",
       "<tr>\n",
       "<td style=\"text-align:left; font-family:'Lucida Console', monospace\">end_time of NeanderthalGHOST (epoch 0)</td>\n",
       "<td style=\"font-family:'Lucida Console'\">&#964<sub>1</sub></td>\n",
       "</tr>\n",
       "<tr>\n",
       "<td style=\"text-align:left; font-family:'Lucida Console', monospace\">time of the pulse from DenisovanGHOST to Papuan</td>\n",
       "<td style=\"font-family:'Lucida Console'\">&#964<sub>2</sub></td>\n",
       "</tr>\n",
       "<tr>\n",
       "<td style=\"text-align:left; font-family:'Lucida Console', monospace\">end_time of OOA (epoch 0)</td>\n",
       "<td style=\"font-family:'Lucida Console'\">&#964<sub>3</sub></td>\n",
       "</tr>\n",
       "<tr>\n",
       "<td style=\"text-align:left; font-family:'Lucida Console', monospace\">start_time of French</td>\n",
       "<td style=\"font-family:'Lucida Console'\">&#964<sub>3</sub></td>\n",
       "</tr>\n",
       "<tr>\n",
       "<td style=\"text-align:left; font-family:'Lucida Console', monospace\">end_time of Vindija (epoch 0)</td>\n",
       "<td style=\"font-family:'Lucida Console'\">&#964<sub>3</sub></td>\n",
       "</tr>\n",
       "<tr>\n",
       "<td style=\"text-align:left; font-family:'Lucida Console', monospace\">start_time of Papuan</td>\n",
       "<td style=\"font-family:'Lucida Console'\">&#964<sub>3</sub></td>\n",
       "</tr>\n",
       "<tr>\n",
       "<td style=\"text-align:left; font-family:'Lucida Console', monospace\">start_time of Vindija</td>\n",
       "<td style=\"font-family:'Lucida Console'\">&#964<sub>4</sub></td>\n",
       "</tr>\n",
       "<tr>\n",
       "<td style=\"text-align:left; font-family:'Lucida Console', monospace\">time of the pulse from NeanderthalGHOST to OOA</td>\n",
       "<td style=\"font-family:'Lucida Console'\">&#964<sub>5</sub></td>\n",
       "</tr>\n",
       "<tr>\n",
       "<td style=\"text-align:left; font-family:'Lucida Console', monospace\">end_time of Denisovan (epoch 0)</td>\n",
       "<td style=\"font-family:'Lucida Console'\">&#964<sub>5</sub></td>\n",
       "</tr>\n",
       "<tr>\n",
       "<td style=\"text-align:left; font-family:'Lucida Console', monospace\">start_time of Denisovan</td>\n",
       "<td style=\"font-family:'Lucida Console'\">&#964<sub>6</sub></td>\n",
       "</tr>\n",
       "<tr>\n",
       "<td style=\"text-align:left; font-family:'Lucida Console', monospace\">end_time of AMH (epoch 0)</td>\n",
       "<td style=\"font-family:'Lucida Console'\">&#964<sub>7</sub></td>\n",
       "</tr>\n",
       "<tr>\n",
       "<td style=\"text-align:left; font-family:'Lucida Console', monospace\">start_time of Yoruba</td>\n",
       "<td style=\"font-family:'Lucida Console'\">&#964<sub>7</sub></td>\n",
       "</tr>\n",
       "<tr>\n",
       "<td style=\"text-align:left; font-family:'Lucida Console', monospace\">start_time of OOA</td>\n",
       "<td style=\"font-family:'Lucida Console'\">&#964<sub>7</sub></td>\n",
       "</tr>\n",
       "<tr>\n",
       "<td style=\"text-align:left; font-family:'Lucida Console', monospace\">start_time of AMH</td>\n",
       "<td style=\"font-family:'Lucida Console'\">&#964<sub>8</sub></td>\n",
       "</tr>\n",
       "<tr>\n",
       "<td style=\"text-align:left; font-family:'Lucida Console', monospace\">end_time of ancestral (epoch 0)</td>\n",
       "<td style=\"font-family:'Lucida Console'\">&#964<sub>8</sub></td>\n",
       "</tr>\n",
       "<tr>\n",
       "<td style=\"text-align:left; font-family:'Lucida Console', monospace\">start_time of NeanderthalGHOST</td>\n",
       "<td style=\"font-family:'Lucida Console'\">&#964<sub>9</sub></td>\n",
       "</tr>\n",
       "<tr>\n",
       "<td style=\"text-align:left; font-family:'Lucida Console', monospace\">start_time of DenisovanGHOST</td>\n",
       "<td style=\"font-family:'Lucida Console'\">&#964<sub>9</sub></td>\n",
       "</tr>\n",
       "<tr>\n",
       "<td style=\"text-align:left; font-family:'Lucida Console', monospace\">end_time of NeaDenAnc (epoch 0)</td>\n",
       "<td style=\"font-family:'Lucida Console'\">&#964<sub>9</sub></td>\n",
       "</tr>\n",
       "\n",
       "    </tbody>\n",
       "    </table>\n",
       "</div>\n"
      ],
      "text/plain": [
       "{'tau_11': inf,\n",
       " 'tau_8': 5920.0,\n",
       " 'eta_0': 7310.0,\n",
       " 'tau_7': 3000.0,\n",
       " 'eta_1': 19053.78515625,\n",
       " 'tau_3': 2000.0,\n",
       " 'eta_2': 4317.021484375,\n",
       " 'tau_0': 0.0,\n",
       " 'eta_3': 20673.0390625,\n",
       " 'eta_4': 4440.43701171875,\n",
       " 'eta_5': 22714.84765625,\n",
       " 'eta_6': 2394.937744140625,\n",
       " 'eta_7': 4582.53466796875,\n",
       " 'tau_10': 12500.0,\n",
       " 'tau_9': 9150.0,\n",
       " 'eta_8': 5014.166015625,\n",
       " 'tau_1': 500.0,\n",
       " 'eta_9': 5803.21142578125,\n",
       " 'tau_4': 2100.0,\n",
       " 'eta_10': 29.492040634155273,\n",
       " 'eta_11': 6040.51220703125,\n",
       " 'tau_6': 2600.0,\n",
       " 'tau_5': 2500.0,\n",
       " 'eta_12': 26.48869514465332,\n",
       " 'pi_0': 0.027285593698492573,\n",
       " 'tau_2': 1000.0,\n",
       " 'pi_1': 0.009166516835301031}"
      ]
     },
     "execution_count": 61,
     "metadata": {},
     "output_type": "execute_result"
    }
   ],
   "source": [
    "params"
   ]
  }
 ],
 "metadata": {
  "kernelspec": {
   "display_name": "Python 3 (ipykernel)",
   "language": "python",
   "name": "python3"
  },
  "language_info": {
   "codemirror_mode": {
    "name": "ipython",
    "version": 3
   },
   "file_extension": ".py",
   "mimetype": "text/x-python",
   "name": "python",
   "nbconvert_exporter": "python",
   "pygments_lexer": "ipython3",
   "version": "3.10.6"
  }
 },
 "nbformat": 4,
 "nbformat_minor": 5
}

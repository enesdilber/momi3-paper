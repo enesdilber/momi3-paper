{
 "cells": [
  {
   "cell_type": "code",
   "execution_count": 1,
   "id": "3a4ecdf4",
   "metadata": {},
   "outputs": [],
   "source": [
    "import os\n",
    "os.environ[\"XLA_PYTHON_CLIENT_MEM_FRACTION\"] = \"1.\"\n",
    "os.environ[\"XLA_PYTHON_CLIENT_PREALLOCATE\"] = \"true\"\n",
    "# import jax\n",
    "# jax.config.update('jax_platform_name', 'cpu')\n",
    "# jax.devices()"
   ]
  },
  {
   "cell_type": "code",
   "execution_count": 2,
   "id": "73ec08d2",
   "metadata": {
    "scrolled": true
   },
   "outputs": [
    {
     "name": "stderr",
     "output_type": "stream",
     "text": [
      "/mnt/turbo/eneswork/jthlab/momi3/src/momi3/utils.py:22: TqdmExperimentalWarning: Using `tqdm.autonotebook.tqdm` in notebook mode. Use `tqdm.tqdm` instead to force console mode (e.g. in jupyter console)\n",
      "  from tqdm.autonotebook import tqdm\n"
     ]
    }
   ],
   "source": [
    "import jax\n",
    "import optax\n",
    "\n",
    "import demes, demesdraw, sparse\n",
    "import matplotlib.pyplot as plt\n",
    "import numpy as np\n",
    "import pandas as pd\n",
    "\n",
    "\n",
    "from momi3.Params import Params\n",
    "from momi3.MOMI import Momi\n",
    "from momi3.optimizers import optax_for_momi\n",
    "from momi3.utils import bootstrap_sample\n",
    "\n",
    "import re\n",
    "import math\n",
    "import pickle\n",
    "import tskit\n",
    "\n",
    "from tqdm.notebook import tqdm, trange\n",
    "\n",
    "from scipy import stats, optimize\n",
    "import numpy as np\n",
    "import jax.numpy as jnp\n",
    "\n",
    "from ast import literal_eval\n",
    "\n",
    "from train import get_demo, get_params"
   ]
  },
  {
   "cell_type": "code",
   "execution_count": 80,
   "id": "111203b9",
   "metadata": {},
   "outputs": [],
   "source": [
    "demo = demes.load('../timing_tests_yaml/3_pop_mig.yaml')"
   ]
  },
  {
   "cell_type": "code",
   "execution_count": 83,
   "id": "6be30e8b",
   "metadata": {},
   "outputs": [],
   "source": [
    "momi = Momi(demo, ['CEU', 'CHB', 'YRI'], [5,5,5], jitted=True)"
   ]
  },
  {
   "cell_type": "code",
   "execution_count": 86,
   "id": "99be3ea4",
   "metadata": {},
   "outputs": [],
   "source": [
    "jsfs = momi.simulate_chromosome(1e8, 1e-8, 1e-8)"
   ]
  },
  {
   "cell_type": "code",
   "execution_count": 88,
   "id": "8578fac6",
   "metadata": {},
   "outputs": [],
   "source": [
    "params = momi._default_params"
   ]
  },
  {
   "cell_type": "code",
   "execution_count": 89,
   "id": "07549bba",
   "metadata": {},
   "outputs": [],
   "source": [
    "params.set_train_all_rhos(True)"
   ]
  },
  {
   "cell_type": "code",
   "execution_count": 92,
   "id": "63b5af21",
   "metadata": {},
   "outputs": [
    {
     "name": "stdout",
     "output_type": "stream",
     "text": [
      "CPU times: user 324 ms, sys: 11.6 ms, total: 335 ms\n",
      "Wall time: 327 ms\n"
     ]
    },
    {
     "data": {
      "text/plain": [
       "(-208869.40625,\n",
       " {'rho_0': -7467103.5, 'rho_1': -24795130.0, 'rho_2': -1517394.25})"
      ]
     },
     "execution_count": 92,
     "metadata": {},
     "output_type": "execute_result"
    }
   ],
   "source": [
    "%%time\n",
    "momi.loglik_with_gradient(params, jsfs)"
   ]
  },
  {
   "cell_type": "code",
   "execution_count": 96,
   "id": "21c6d1ce",
   "metadata": {},
   "outputs": [
    {
     "data": {
      "text/plain": [
       "Node(id=7508, flags=1048577, time=184.56, population=210, individual=3754, metadata=b'')"
      ]
     },
     "execution_count": 96,
     "metadata": {},
     "output_type": "execute_result"
    }
   ],
   "source": [
    "ts.node(7508)"
   ]
  },
  {
   "cell_type": "code",
   "execution_count": null,
   "id": "ead96310",
   "metadata": {},
   "outputs": [],
   "source": []
  },
  {
   "cell_type": "code",
   "execution_count": 74,
   "id": "bddfdc05",
   "metadata": {},
   "outputs": [],
   "source": [
    "ts = tskit.load('../../../Unified_genome/hgdp_tgp_sgdp_high_cov_ancients_chr20_p.dated.trees')"
   ]
  },
  {
   "cell_type": "code",
   "execution_count": 75,
   "id": "5b8378f7",
   "metadata": {
    "scrolled": true
   },
   "outputs": [
    {
     "data": {
      "text/plain": [
       "[Population(id=0, metadata=b'{\"name\": \"Adygei\", \"region\": \"EUROPE\"}'),\n",
       " Population(id=1, metadata=b'{\"name\": \"Balochi\", \"region\": \"CENTRAL_SOUTH_ASIA\"}'),\n",
       " Population(id=2, metadata=b'{\"name\": \"BantuKenya\", \"region\": \"AFRICA\"}'),\n",
       " Population(id=3, metadata=b'{\"name\": \"BantuSouthAfrica\", \"region\": \"AFRICA\"}'),\n",
       " Population(id=4, metadata=b'{\"name\": \"Basque\", \"region\": \"EUROPE\"}'),\n",
       " Population(id=5, metadata=b'{\"name\": \"Bedouin\", \"region\": \"MIDDLE_EAST\"}'),\n",
       " Population(id=6, metadata=b'{\"name\": \"BergamoItalian\", \"region\": \"EUROPE\"}'),\n",
       " Population(id=7, metadata=b'{\"name\": \"Biaka\", \"region\": \"AFRICA\"}'),\n",
       " Population(id=8, metadata=b'{\"name\": \"Bougainville\", \"region\": \"OCEANIA\"}'),\n",
       " Population(id=9, metadata=b'{\"name\": \"Brahui\", \"region\": \"CENTRAL_SOUTH_ASIA\"}'),\n",
       " Population(id=10, metadata=b'{\"name\": \"Burusho\", \"region\": \"CENTRAL_SOUTH_ASIA\"}'),\n",
       " Population(id=11, metadata=b'{\"name\": \"Cambodian\", \"region\": \"EAST_ASIA\"}'),\n",
       " Population(id=12, metadata=b'{\"name\": \"Colombian\", \"region\": \"AMERICA\"}'),\n",
       " Population(id=13, metadata=b'{\"name\": \"Dai\", \"region\": \"EAST_ASIA\"}'),\n",
       " Population(id=14, metadata=b'{\"name\": \"Daur\", \"region\": \"EAST_ASIA\"}'),\n",
       " Population(id=15, metadata=b'{\"name\": \"Druze\", \"region\": \"MIDDLE_EAST\"}'),\n",
       " Population(id=16, metadata=b'{\"name\": \"French\", \"region\": \"EUROPE\"}'),\n",
       " Population(id=17, metadata=b'{\"name\": \"Han\", \"region\": \"EAST_ASIA\"}'),\n",
       " Population(id=18, metadata=b'{\"name\": \"Hazara\", \"region\": \"CENTRAL_SOUTH_ASIA\"}'),\n",
       " Population(id=19, metadata=b'{\"name\": \"Hezhen\", \"region\": \"EAST_ASIA\"}'),\n",
       " Population(id=20, metadata=b'{\"name\": \"Japanese\", \"region\": \"EAST_ASIA\"}'),\n",
       " Population(id=21, metadata=b'{\"name\": \"Kalash\", \"region\": \"CENTRAL_SOUTH_ASIA\"}'),\n",
       " Population(id=22, metadata=b'{\"name\": \"Karitiana\", \"region\": \"AMERICA\"}'),\n",
       " Population(id=23, metadata=b'{\"name\": \"Lahu\", \"region\": \"EAST_ASIA\"}'),\n",
       " Population(id=24, metadata=b'{\"name\": \"Makrani\", \"region\": \"CENTRAL_SOUTH_ASIA\"}'),\n",
       " Population(id=25, metadata=b'{\"name\": \"Mandenka\", \"region\": \"AFRICA\"}'),\n",
       " Population(id=26, metadata=b'{\"name\": \"Maya\", \"region\": \"AMERICA\"}'),\n",
       " Population(id=27, metadata=b'{\"name\": \"Mbuti\", \"region\": \"AFRICA\"}'),\n",
       " Population(id=28, metadata=b'{\"name\": \"Miao\", \"region\": \"EAST_ASIA\"}'),\n",
       " Population(id=29, metadata=b'{\"name\": \"Mongolian\", \"region\": \"EAST_ASIA\"}'),\n",
       " Population(id=30, metadata=b'{\"name\": \"Mozabite\", \"region\": \"MIDDLE_EAST\"}'),\n",
       " Population(id=31, metadata=b'{\"name\": \"Naxi\", \"region\": \"EAST_ASIA\"}'),\n",
       " Population(id=32, metadata=b'{\"name\": \"NorthernHan\", \"region\": \"EAST_ASIA\"}'),\n",
       " Population(id=33, metadata=b'{\"name\": \"Orcadian\", \"region\": \"EUROPE\"}'),\n",
       " Population(id=34, metadata=b'{\"name\": \"Oroqen\", \"region\": \"EAST_ASIA\"}'),\n",
       " Population(id=35, metadata=b'{\"name\": \"Palestinian\", \"region\": \"MIDDLE_EAST\"}'),\n",
       " Population(id=36, metadata=b'{\"name\": \"PapuanHighlands\", \"region\": \"OCEANIA\"}'),\n",
       " Population(id=37, metadata=b'{\"name\": \"PapuanSepik\", \"region\": \"OCEANIA\"}'),\n",
       " Population(id=38, metadata=b'{\"name\": \"Pathan\", \"region\": \"CENTRAL_SOUTH_ASIA\"}'),\n",
       " Population(id=39, metadata=b'{\"name\": \"Pima\", \"region\": \"AMERICA\"}'),\n",
       " Population(id=40, metadata=b'{\"name\": \"Russian\", \"region\": \"EUROPE\"}'),\n",
       " Population(id=41, metadata=b'{\"name\": \"San\", \"region\": \"AFRICA\"}'),\n",
       " Population(id=42, metadata=b'{\"name\": \"Sardinian\", \"region\": \"EUROPE\"}'),\n",
       " Population(id=43, metadata=b'{\"name\": \"She\", \"region\": \"EAST_ASIA\"}'),\n",
       " Population(id=44, metadata=b'{\"name\": \"Sindhi\", \"region\": \"CENTRAL_SOUTH_ASIA\"}'),\n",
       " Population(id=45, metadata=b'{\"name\": \"Surui\", \"region\": \"AMERICA\"}'),\n",
       " Population(id=46, metadata=b'{\"name\": \"Tu\", \"region\": \"EAST_ASIA\"}'),\n",
       " Population(id=47, metadata=b'{\"name\": \"Tujia\", \"region\": \"EAST_ASIA\"}'),\n",
       " Population(id=48, metadata=b'{\"name\": \"Tuscan\", \"region\": \"EUROPE\"}'),\n",
       " Population(id=49, metadata=b'{\"name\": \"Uygur\", \"region\": \"CENTRAL_SOUTH_ASIA\"}'),\n",
       " Population(id=50, metadata=b'{\"name\": \"Xibo\", \"region\": \"EAST_ASIA\"}'),\n",
       " Population(id=51, metadata=b'{\"name\": \"Yakut\", \"region\": \"EAST_ASIA\"}'),\n",
       " Population(id=52, metadata=b'{\"name\": \"Yi\", \"region\": \"EAST_ASIA\"}'),\n",
       " Population(id=53, metadata=b'{\"name\": \"Yoruba\", \"region\": \"AFRICA\"}'),\n",
       " Population(id=54, metadata=b'{\"description\": \"Han Chinese in Beijing, China\", \"name\": \"CHB\", \"super_population\": \"EAS\"}'),\n",
       " Population(id=55, metadata=b'{\"description\": \"Japanese in Tokyo, Japan\", \"name\": \"JPT\", \"super_population\": \"EAS\"}'),\n",
       " Population(id=56, metadata=b'{\"description\": \"Southern Han Chinese\", \"name\": \"CHS\", \"super_population\": \"EAS\"}'),\n",
       " Population(id=57, metadata=b'{\"description\": \"Chinese Dai in Xishuangbanna, China\", \"name\": \"CDX\", \"super_population\": \"EAS\"}'),\n",
       " Population(id=58, metadata=b'{\"description\": \"Kinh in Ho Chi Minh City, Vietnam\", \"name\": \"KHV\", \"super_population\": \"EAS\"}'),\n",
       " Population(id=59, metadata=b'{\"description\": \"Utah Residents (CEPH) with Northern and Western European Ancestry\", \"name\": \"CEU\", \"super_population\": \"EUR\"}'),\n",
       " Population(id=60, metadata=b'{\"description\": \"Toscani in Italia\", \"name\": \"TSI\", \"super_population\": \"EUR\"}'),\n",
       " Population(id=61, metadata=b'{\"description\": \"Finnish in Finland\", \"name\": \"FIN\", \"super_population\": \"EUR\"}'),\n",
       " Population(id=62, metadata=b'{\"description\": \"British in England and Scotland\", \"name\": \"GBR\", \"super_population\": \"EUR\"}'),\n",
       " Population(id=63, metadata=b'{\"description\": \"Iberian Population in Spain\", \"name\": \"IBS\", \"super_population\": \"EUR\"}'),\n",
       " Population(id=64, metadata=b'{\"description\": \"Yoruba in Ibadan, Nigeria\", \"name\": \"YRI\", \"super_population\": \"AFR\"}'),\n",
       " Population(id=65, metadata=b'{\"description\": \"Luhya in Webuye, Kenya\", \"name\": \"LWK\", \"super_population\": \"AFR\"}'),\n",
       " Population(id=66, metadata=b'{\"description\": \"Gambian in Western Divisions in the Gambia\", \"name\": \"GWD\", \"super_population\": \"AFR\"}'),\n",
       " Population(id=67, metadata=b'{\"description\": \"Mende in Sierra Leone\", \"name\": \"MSL\", \"super_population\": \"AFR\"}'),\n",
       " Population(id=68, metadata=b'{\"description\": \"Esan in Nigeria\", \"name\": \"ESN\", \"super_population\": \"AFR\"}'),\n",
       " Population(id=69, metadata=b'{\"description\": \"Americans of African Ancestry in SW USA\", \"name\": \"ASW\", \"super_population\": \"AFR\"}'),\n",
       " Population(id=70, metadata=b'{\"description\": \"African Caribbeans in Barbados\", \"name\": \"ACB\", \"super_population\": \"AFR\"}'),\n",
       " Population(id=71, metadata=b'{\"description\": \"Mexican Ancestry from Los Angeles USA\", \"name\": \"MXL\", \"super_population\": \"AMR\"}'),\n",
       " Population(id=72, metadata=b'{\"description\": \"Puerto Ricans from Puerto Rico\", \"name\": \"PUR\", \"super_population\": \"AMR\"}'),\n",
       " Population(id=73, metadata=b'{\"description\": \"Colombians from Medellin, Colombia\", \"name\": \"CLM\", \"super_population\": \"AMR\"}'),\n",
       " Population(id=74, metadata=b'{\"description\": \"Peruvians from Lima, Peru\", \"name\": \"PEL\", \"super_population\": \"AMR\"}'),\n",
       " Population(id=75, metadata=b'{\"description\": \"Gujarati Indian from Houston, Texas\", \"name\": \"GIH\", \"super_population\": \"SAS\"}'),\n",
       " Population(id=76, metadata=b'{\"description\": \"Punjabi from Lahore, Pakistan\", \"name\": \"PJL\", \"super_population\": \"SAS\"}'),\n",
       " Population(id=77, metadata=b'{\"description\": \"Bengali from Bangladesh\", \"name\": \"BEB\", \"super_population\": \"SAS\"}'),\n",
       " Population(id=78, metadata=b'{\"description\": \"Sri Lankan Tamil from the UK\", \"name\": \"STU\", \"super_population\": \"SAS\"}'),\n",
       " Population(id=79, metadata=b'{\"description\": \"Indian Telugu from the UK\", \"name\": \"ITU\", \"super_population\": \"SAS\"}'),\n",
       " Population(id=80, metadata=b'{\"name\": \"Abkhasian\", \"region\": \"WestEurasia\"}'),\n",
       " Population(id=81, metadata=b'{\"name\": \"Adygei\", \"region\": \"WestEurasia\"}'),\n",
       " Population(id=82, metadata=b'{\"name\": \"Albanian\", \"region\": \"WestEurasia\"}'),\n",
       " Population(id=83, metadata=b'{\"name\": \"Aleut\", \"region\": \"CentralAsiaSiberia\"}'),\n",
       " Population(id=84, metadata=b'{\"name\": \"Altaian\", \"region\": \"CentralAsiaSiberia\"}'),\n",
       " Population(id=85, metadata=b'{\"name\": \"Ami\", \"region\": \"EastAsia\"}'),\n",
       " Population(id=86, metadata=b'{\"name\": \"Armenian\", \"region\": \"WestEurasia\"}'),\n",
       " Population(id=87, metadata=b'{\"name\": \"Atayal\", \"region\": \"EastAsia\"}'),\n",
       " Population(id=88, metadata=b'{\"name\": \"Australian\", \"region\": \"Oceania\"}'),\n",
       " Population(id=89, metadata=b'{\"name\": \"Balochi\", \"region\": \"SouthAsia\"}'),\n",
       " Population(id=90, metadata=b'{\"name\": \"BantuHerero\", \"region\": \"Africa\"}'),\n",
       " Population(id=91, metadata=b'{\"name\": \"BantuKenya\", \"region\": \"Africa\"}'),\n",
       " Population(id=92, metadata=b'{\"name\": \"BantuTswana\", \"region\": \"Africa\"}'),\n",
       " Population(id=93, metadata=b'{\"name\": \"Basque\", \"region\": \"WestEurasia\"}'),\n",
       " Population(id=94, metadata=b'{\"name\": \"BedouinB\", \"region\": \"WestEurasia\"}'),\n",
       " Population(id=95, metadata=b'{\"name\": \"Bengali\", \"region\": \"SouthAsia\"}'),\n",
       " Population(id=96, metadata=b'{\"name\": \"Bergamo\", \"region\": \"WestEurasia\"}'),\n",
       " Population(id=97, metadata=b'{\"name\": \"Biaka\", \"region\": \"Africa\"}'),\n",
       " Population(id=98, metadata=b'{\"name\": \"Bougainville\", \"region\": \"Oceania\"}'),\n",
       " Population(id=99, metadata=b'{\"name\": \"Brahmin\", \"region\": \"SouthAsia\"}'),\n",
       " Population(id=100, metadata=b'{\"name\": \"Brahui\", \"region\": \"SouthAsia\"}'),\n",
       " Population(id=101, metadata=b'{\"name\": \"Bulgarian\", \"region\": \"WestEurasia\"}'),\n",
       " Population(id=102, metadata=b'{\"name\": \"Burmese\", \"region\": \"EastAsia\"}'),\n",
       " Population(id=103, metadata=b'{\"name\": \"Burusho\", \"region\": \"SouthAsia\"}'),\n",
       " Population(id=104, metadata=b'{\"name\": \"Cambodian\", \"region\": \"EastAsia\"}'),\n",
       " Population(id=105, metadata=b'{\"name\": \"Chane\", \"region\": \"America\"}'),\n",
       " Population(id=106, metadata=b'{\"name\": \"Chechen\", \"region\": \"WestEurasia\"}'),\n",
       " Population(id=107, metadata=b'{\"name\": \"Chukchi\", \"region\": \"CentralAsiaSiberia\"}'),\n",
       " Population(id=108, metadata=b'{\"name\": \"Crete\", \"region\": \"WestEurasia\"}'),\n",
       " Population(id=109, metadata=b'{\"name\": \"Czech\", \"region\": \"WestEurasia\"}'),\n",
       " Population(id=110, metadata=b'{\"name\": \"Dai\", \"region\": \"EastAsia\"}'),\n",
       " Population(id=111, metadata=b'{\"name\": \"Daur\", \"region\": \"EastAsia\"}'),\n",
       " Population(id=112, metadata=b'{\"name\": \"Dinka\", \"region\": \"Africa\"}'),\n",
       " Population(id=113, metadata=b'{\"name\": \"Druze\", \"region\": \"WestEurasia\"}'),\n",
       " Population(id=114, metadata=b'{\"name\": \"Dusun\", \"region\": \"Oceania\"}'),\n",
       " Population(id=115, metadata=b'{\"name\": \"English\", \"region\": \"WestEurasia\"}'),\n",
       " Population(id=116, metadata=b'{\"name\": \"Esan\", \"region\": \"Africa\"}'),\n",
       " Population(id=117, metadata=b'{\"name\": \"Eskimo_Chaplin\", \"region\": \"CentralAsiaSiberia\"}'),\n",
       " Population(id=118, metadata=b'{\"name\": \"Eskimo_Naukan\", \"region\": \"CentralAsiaSiberia\"}'),\n",
       " Population(id=119, metadata=b'{\"name\": \"Eskimo_Sireniki\", \"region\": \"CentralAsiaSiberia\"}'),\n",
       " Population(id=120, metadata=b'{\"name\": \"Estonian\", \"region\": \"WestEurasia\"}'),\n",
       " Population(id=121, metadata=b'{\"name\": \"Even\", \"region\": \"CentralAsiaSiberia\"}'),\n",
       " Population(id=122, metadata=b'{\"name\": \"Finnish\", \"region\": \"WestEurasia\"}'),\n",
       " Population(id=123, metadata=b'{\"name\": \"French\", \"region\": \"WestEurasia\"}'),\n",
       " Population(id=124, metadata=b'{\"name\": \"Gambian\", \"region\": \"Africa\"}'),\n",
       " Population(id=125, metadata=b'{\"name\": \"Georgian\", \"region\": \"WestEurasia\"}'),\n",
       " Population(id=126, metadata=b'{\"name\": \"Greek\", \"region\": \"WestEurasia\"}'),\n",
       " Population(id=127, metadata=b'{\"name\": \"Han\", \"region\": \"EastAsia\"}'),\n",
       " Population(id=128, metadata=b'{\"name\": \"Hawaiian\", \"region\": \"Oceania\"}'),\n",
       " Population(id=129, metadata=b'{\"name\": \"Hazara\", \"region\": \"SouthAsia\"}'),\n",
       " Population(id=130, metadata=b'{\"name\": \"Hezhen\", \"region\": \"EastAsia\"}'),\n",
       " Population(id=131, metadata=b'{\"name\": \"Hungarian\", \"region\": \"WestEurasia\"}'),\n",
       " Population(id=132, metadata=b'{\"name\": \"Icelandic\", \"region\": \"WestEurasia\"}'),\n",
       " Population(id=133, metadata=b'{\"name\": \"Igorot\", \"region\": \"Oceania\"}'),\n",
       " Population(id=134, metadata=b'{\"name\": \"Iranian\", \"region\": \"WestEurasia\"}'),\n",
       " Population(id=135, metadata=b'{\"name\": \"Iraqi_Jew\", \"region\": \"WestEurasia\"}'),\n",
       " Population(id=136, metadata=b'{\"name\": \"Irula\", \"region\": \"SouthAsia\"}'),\n",
       " Population(id=137, metadata=b'{\"name\": \"Itelman\", \"region\": \"CentralAsiaSiberia\"}'),\n",
       " Population(id=138, metadata=b'{\"name\": \"Japanese\", \"region\": \"EastAsia\"}'),\n",
       " Population(id=139, metadata=b'{\"name\": \"Jordanian\", \"region\": \"WestEurasia\"}'),\n",
       " Population(id=140, metadata=b'{\"name\": \"Ju_hoan_North\", \"region\": \"Africa\"}'),\n",
       " Population(id=141, metadata=b'{\"name\": \"Kalash\", \"region\": \"SouthAsia\"}'),\n",
       " Population(id=142, metadata=b'{\"name\": \"Kapu\", \"region\": \"SouthAsia\"}'),\n",
       " Population(id=143, metadata=b'{\"name\": \"Karitiana\", \"region\": \"America\"}'),\n",
       " Population(id=144, metadata=b'{\"name\": \"Khomani_San\", \"region\": \"Africa\"}'),\n",
       " Population(id=145, metadata=b'{\"name\": \"Khonda_Dora\", \"region\": \"SouthAsia\"}'),\n",
       " Population(id=146, metadata=b'{\"name\": \"Kinh\", \"region\": \"EastAsia\"}'),\n",
       " Population(id=147, metadata=b'{\"name\": \"Korean\", \"region\": \"EastAsia\"}'),\n",
       " Population(id=148, metadata=b'{\"name\": \"Kusunda\", \"region\": \"SouthAsia\"}'),\n",
       " Population(id=149, metadata=b'{\"name\": \"Kyrgyz\", \"region\": \"CentralAsiaSiberia\"}'),\n",
       " Population(id=150, metadata=b'{\"name\": \"Lahu\", \"region\": \"EastAsia\"}'),\n",
       " Population(id=151, metadata=b'{\"name\": \"Lezgin\", \"region\": \"WestEurasia\"}'),\n",
       " Population(id=152, metadata=b'{\"name\": \"Luhya\", \"region\": \"Africa\"}'),\n",
       " Population(id=153, metadata=b'{\"name\": \"Luo\", \"region\": \"Africa\"}'),\n",
       " Population(id=154, metadata=b'{\"name\": \"Madiga\", \"region\": \"SouthAsia\"}'),\n",
       " Population(id=155, metadata=b'{\"name\": \"Makrani\", \"region\": \"SouthAsia\"}'),\n",
       " Population(id=156, metadata=b'{\"name\": \"Mala\", \"region\": \"SouthAsia\"}'),\n",
       " Population(id=157, metadata=b'{\"name\": \"Mandenka\", \"region\": \"Africa\"}'),\n",
       " Population(id=158, metadata=b'{\"name\": \"Mansi\", \"region\": \"CentralAsiaSiberia\"}'),\n",
       " Population(id=159, metadata=b'{\"name\": \"Maori\", \"region\": \"Oceania\"}'),\n",
       " Population(id=160, metadata=b'{\"name\": \"Masai\", \"region\": \"Africa\"}'),\n",
       " Population(id=161, metadata=b'{\"name\": \"Mayan\", \"region\": \"America\"}'),\n",
       " Population(id=162, metadata=b'{\"name\": \"Mbuti\", \"region\": \"Africa\"}'),\n",
       " Population(id=163, metadata=b'{\"name\": \"Mende\", \"region\": \"Africa\"}'),\n",
       " Population(id=164, metadata=b'{\"name\": \"Miao\", \"region\": \"EastAsia\"}'),\n",
       " Population(id=165, metadata=b'{\"name\": \"Mixe\", \"region\": \"America\"}'),\n",
       " Population(id=166, metadata=b'{\"name\": \"Mixtec\", \"region\": \"America\"}'),\n",
       " Population(id=167, metadata=b'{\"name\": \"Mongola\", \"region\": \"CentralAsiaSiberia\"}'),\n",
       " Population(id=168, metadata=b'{\"name\": \"Mozabite\", \"region\": \"Africa\"}'),\n",
       " Population(id=169, metadata=b'{\"name\": \"Naxi\", \"region\": \"EastAsia\"}'),\n",
       " Population(id=170, metadata=b'{\"name\": \"North_Ossetian\", \"region\": \"WestEurasia\"}'),\n",
       " Population(id=171, metadata=b'{\"name\": \"Norwegian\", \"region\": \"WestEurasia\"}'),\n",
       " Population(id=172, metadata=b'{\"name\": \"Orcadian\", \"region\": \"WestEurasia\"}'),\n",
       " Population(id=173, metadata=b'{\"name\": \"Oroqen\", \"region\": \"EastAsia\"}'),\n",
       " Population(id=174, metadata=b'{\"name\": \"Palestinian\", \"region\": \"WestEurasia\"}'),\n",
       " Population(id=175, metadata=b'{\"name\": \"Papuan\", \"region\": \"Oceania\"}'),\n",
       " Population(id=176, metadata=b'{\"name\": \"Pathan\", \"region\": \"SouthAsia\"}'),\n",
       " Population(id=177, metadata=b'{\"name\": \"Piapoco\", \"region\": \"America\"}'),\n",
       " Population(id=178, metadata=b'{\"name\": \"Pima\", \"region\": \"America\"}'),\n",
       " Population(id=179, metadata=b'{\"name\": \"Polish\", \"region\": \"WestEurasia\"}'),\n",
       " Population(id=180, metadata=b'{\"name\": \"Punjabi\", \"region\": \"SouthAsia\"}'),\n",
       " Population(id=181, metadata=b'{\"name\": \"Quechua\", \"region\": \"America\"}'),\n",
       " Population(id=182, metadata=b'{\"name\": \"Relli\", \"region\": \"SouthAsia\"}'),\n",
       " Population(id=183, metadata=b'{\"name\": \"Russian\", \"region\": \"WestEurasia\"}'),\n",
       " Population(id=184, metadata=b'{\"name\": \"Saami\", \"region\": \"WestEurasia\"}'),\n",
       " Population(id=185, metadata=b'{\"name\": \"Saharawi\", \"region\": \"Africa\"}'),\n",
       " Population(id=186, metadata=b'{\"name\": \"Samaritan\", \"region\": \"WestEurasia\"}'),\n",
       " Population(id=187, metadata=b'{\"name\": \"Sardinian\", \"region\": \"WestEurasia\"}'),\n",
       " Population(id=188, metadata=b'{\"name\": \"She\", \"region\": \"EastAsia\"}'),\n",
       " Population(id=189, metadata=b'{\"name\": \"Sindhi\", \"region\": \"SouthAsia\"}'),\n",
       " Population(id=190, metadata=b'{\"name\": \"Somali\", \"region\": \"Africa\"}'),\n",
       " Population(id=191, metadata=b'{\"name\": \"Spanish\", \"region\": \"WestEurasia\"}'),\n",
       " Population(id=192, metadata=b'{\"name\": \"Surui\", \"region\": \"America\"}'),\n",
       " Population(id=193, metadata=b'{\"name\": \"Tajik\", \"region\": \"WestEurasia\"}'),\n",
       " Population(id=194, metadata=b'{\"name\": \"Thai\", \"region\": \"EastAsia\"}'),\n",
       " Population(id=195, metadata=b'{\"name\": \"Tlingit\", \"region\": \"CentralAsiaSiberia\"}'),\n",
       " Population(id=196, metadata=b'{\"name\": \"Tu\", \"region\": \"EastAsia\"}'),\n",
       " Population(id=197, metadata=b'{\"name\": \"Tubalar\", \"region\": \"CentralAsiaSiberia\"}'),\n",
       " Population(id=198, metadata=b'{\"name\": \"Tujia\", \"region\": \"EastAsia\"}'),\n",
       " Population(id=199, metadata=b'{\"name\": \"Turkish\", \"region\": \"WestEurasia\"}'),\n",
       " Population(id=200, metadata=b'{\"name\": \"Tuscan\", \"region\": \"WestEurasia\"}'),\n",
       " Population(id=201, metadata=b'{\"name\": \"Ulchi\", \"region\": \"CentralAsiaSiberia\"}'),\n",
       " Population(id=202, metadata=b'{\"name\": \"Uygur\", \"region\": \"EastAsia\"}'),\n",
       " Population(id=203, metadata=b'{\"name\": \"Xibo\", \"region\": \"EastAsia\"}'),\n",
       " Population(id=204, metadata=b'{\"name\": \"Yadava\", \"region\": \"SouthAsia\"}'),\n",
       " Population(id=205, metadata=b'{\"name\": \"Yakut\", \"region\": \"CentralAsiaSiberia\"}'),\n",
       " Population(id=206, metadata=b'{\"name\": \"Yemenite_Jew\", \"region\": \"WestEurasia\"}'),\n",
       " Population(id=207, metadata=b'{\"name\": \"Yi\", \"region\": \"EastAsia\"}'),\n",
       " Population(id=208, metadata=b'{\"name\": \"Yoruba\", \"region\": \"Africa\"}'),\n",
       " Population(id=209, metadata=b'{\"name\": \"Zapotec\", \"region\": \"America\"}'),\n",
       " Population(id=210, metadata=b'{\"name\": \"Afanasievo\", \"super_population\": \"Afanasievo\"}'),\n",
       " Population(id=211, metadata=b'{\"name\": \"Altai\", \"super_population\": \"Max Planck\"}'),\n",
       " Population(id=212, metadata=b'{\"name\": \"Chagyrskaya\", \"super_population\": \"Max Planck\"}'),\n",
       " Population(id=213, metadata=b'{\"name\": \"Denisovan\", \"super_population\": \"Max Planck\"}'),\n",
       " Population(id=214, metadata=b'{\"name\": \"Vindija\", \"super_population\": \"Max Planck\"}')]"
      ]
     },
     "execution_count": 75,
     "metadata": {},
     "output_type": "execute_result"
    }
   ],
   "source": [
    "list(ts.populations())"
   ]
  },
  {
   "cell_type": "code",
   "execution_count": 79,
   "id": "f8dd6ce0",
   "metadata": {},
   "outputs": [
    {
     "data": {
      "text/plain": [
       "array([7508, 7509, 7510, 7511, 7512, 7513, 7514, 7515], dtype=int32)"
      ]
     },
     "execution_count": 79,
     "metadata": {},
     "output_type": "execute_result"
    }
   ],
   "source": [
    "ts.samples(210)"
   ]
  },
  {
   "cell_type": "code",
   "execution_count": 70,
   "id": "878d3403",
   "metadata": {},
   "outputs": [],
   "source": [
    "jsfs = np.load('jsfs_UNIF_chr20_Yoruba_French_Papuan_Vindija_Denisovan_3419145_108.npy')"
   ]
  },
  {
   "cell_type": "code",
   "execution_count": 71,
   "id": "3d688d53",
   "metadata": {},
   "outputs": [],
   "source": [
    "sampled_demes = ('Yoruba', 'French', 'Papuan', 'Vindija', 'Denisovan')\n",
    "sample_sizes = [i - 1 for i in jsfs.shape]"
   ]
  },
  {
   "cell_type": "code",
   "execution_count": 72,
   "id": "c40d4c57",
   "metadata": {},
   "outputs": [
    {
     "data": {
      "text/plain": [
       "[214, 56, 30, 2, 2]"
      ]
     },
     "execution_count": 72,
     "metadata": {},
     "output_type": "execute_result"
    }
   ],
   "source": [
    "sample_sizes"
   ]
  },
  {
   "cell_type": "code",
   "execution_count": 6,
   "id": "9e3a06e4",
   "metadata": {
    "scrolled": true
   },
   "outputs": [
    {
     "name": "stdout",
     "output_type": "stream",
     "text": [
      "sample sizes\n",
      "Yoruba: 214\n",
      "French: 56\n",
      "Papuan: 30\n",
      "Vindija: 2\n",
      "Denisovan: 2\n"
     ]
    }
   ],
   "source": [
    "print('sample sizes')\n",
    "for i, j in zip(sampled_demes, sample_sizes):\n",
    "    print(f\"{i}: {j}\")"
   ]
  },
  {
   "cell_type": "code",
   "execution_count": 7,
   "id": "3837a96a",
   "metadata": {},
   "outputs": [
    {
     "name": "stdout",
     "output_type": "stream",
     "text": [
      "# Number of SNPs: 0.9 million\n"
     ]
    }
   ],
   "source": [
    "print(f'# Number of SNPs: {jsfs.sum()/1e6:.1f} million')"
   ]
  },
  {
   "cell_type": "code",
   "execution_count": 8,
   "id": "a986d569",
   "metadata": {},
   "outputs": [
    {
     "name": "stdout",
     "output_type": "stream",
     "text": [
      "# Non-zero SFS entries: 0.03 million\n"
     ]
    }
   ],
   "source": [
    "print(f'# Non-zero SFS entries: {(jsfs != 0).sum()/1e6:.2f} million')"
   ]
  },
  {
   "cell_type": "code",
   "execution_count": 56,
   "id": "fad3402e",
   "metadata": {},
   "outputs": [],
   "source": [
    "demo = demes.load('arc5_pulse_inferred.yaml')"
   ]
  },
  {
   "cell_type": "code",
   "execution_count": 57,
   "id": "fe05b6e2",
   "metadata": {},
   "outputs": [],
   "source": [
    "dd = demo.asdict()"
   ]
  },
  {
   "cell_type": "code",
   "execution_count": 58,
   "id": "80f7b3f0",
   "metadata": {},
   "outputs": [],
   "source": [
    "b = demes.Builder.fromdict(dd)"
   ]
  },
  {
   "cell_type": "code",
   "execution_count": 59,
   "id": "f5d13bdb",
   "metadata": {},
   "outputs": [],
   "source": [
    "b.add_migration(source='DenisovanGHOST', dest='NeanderthalGHOST', rate=0.001, end_time=3000)\n",
    "b.add_migration(source='NeanderthalGHOST', dest='DenisovanGHOST', rate=0.002, end_time=3000)"
   ]
  },
  {
   "cell_type": "code",
   "execution_count": 60,
   "id": "2501f868",
   "metadata": {},
   "outputs": [],
   "source": [
    "demo = b.resolve()"
   ]
  },
  {
   "cell_type": "code",
   "execution_count": 61,
   "id": "bc573953",
   "metadata": {},
   "outputs": [
    {
     "data": {
      "text/plain": [
       "<AxesSubplot:ylabel='time ago (generations)'>"
      ]
     },
     "execution_count": 61,
     "metadata": {},
     "output_type": "execute_result"
    },
    {
     "data": {
      "image/png": "[encoded data removed]",
      "text/plain": [
       "<Figure size 853.333x480 with 1 Axes>"
      ]
     },
     "metadata": {},
     "output_type": "display_data"
    }
   ],
   "source": [
    "demesdraw.tubes(demo)"
   ]
  },
  {
   "cell_type": "code",
   "execution_count": 62,
   "id": "0b16b54f",
   "metadata": {},
   "outputs": [],
   "source": [
    "momi = Momi(demo, sampled_demes, sample_sizes, jitted=True)"
   ]
  },
  {
   "cell_type": "code",
   "execution_count": 63,
   "id": "2d846a0e",
   "metadata": {},
   "outputs": [],
   "source": [
    "params = Params(momi)"
   ]
  },
  {
   "cell_type": "code",
   "execution_count": 64,
   "id": "de561ffe",
   "metadata": {},
   "outputs": [],
   "source": [
    "bounds = momi.bound_sampler(params, 10000, min_lineages=4, quantile=0.99)\n",
    "momi = momi.bound(bounds)"
   ]
  },
  {
   "cell_type": "code",
   "execution_count": 65,
   "id": "8756e626",
   "metadata": {},
   "outputs": [],
   "source": [
    "bs_jsfs = momi._bootstrap_sample(jsfs, 10000, seed=108)"
   ]
  },
  {
   "cell_type": "code",
   "execution_count": 66,
   "id": "a62bc3dd",
   "metadata": {},
   "outputs": [
    {
     "data": {
      "text/plain": [
       "871"
      ]
     },
     "execution_count": 66,
     "metadata": {},
     "output_type": "execute_result"
    }
   ],
   "source": [
    "(bs_jsfs != 0).sum()"
   ]
  },
  {
   "cell_type": "code",
   "execution_count": 67,
   "id": "bff29f84",
   "metadata": {},
   "outputs": [],
   "source": [
    "params.set_train_all_rhos('True')"
   ]
  },
  {
   "cell_type": "code",
   "execution_count": null,
   "id": "ce0faf10",
   "metadata": {},
   "outputs": [],
   "source": [
    "ts.p"
   ]
  },
  {
   "cell_type": "code",
   "execution_count": null,
   "id": "bd83ffa3",
   "metadata": {},
   "outputs": [],
   "source": []
  },
  {
   "cell_type": "code",
   "execution_count": 69,
   "id": "f89167a1",
   "metadata": {},
   "outputs": [
    {
     "name": "stdout",
     "output_type": "stream",
     "text": [
      "CPU times: user 3min 44s, sys: 58.8 ms, total: 3min 44s\n",
      "Wall time: 3min 44s\n"
     ]
    },
    {
     "data": {
      "text/plain": [
       "(-17510.046875, {'rho_0': 13402.044921875, 'rho_1': -10421.8916015625})"
      ]
     },
     "execution_count": 69,
     "metadata": {},
     "output_type": "execute_result"
    }
   ],
   "source": [
    "%%time\n",
    "momi.loglik_with_gradient(params, bs_jsfs)"
   ]
  },
  {
   "cell_type": "code",
   "execution_count": null,
   "id": "50dd7e3f",
   "metadata": {},
   "outputs": [],
   "source": []
  },
  {
   "cell_type": "code",
   "execution_count": null,
   "id": "3cbb1380",
   "metadata": {},
   "outputs": [],
   "source": []
  },
  {
   "cell_type": "code",
   "execution_count": 33,
   "id": "2e0b54ad",
   "metadata": {},
   "outputs": [],
   "source": [
    "jsfs = np.load('jsfs_UNIF_Yoruba_French_Papuan_Vindija_Denisovan_3419145_108.npy')"
   ]
  },
  {
   "cell_type": "code",
   "execution_count": 54,
   "id": "2afa9a98",
   "metadata": {},
   "outputs": [],
   "source": [
    "x = bootstrap_sample(jsfs, 400000, seed=109)"
   ]
  },
  {
   "cell_type": "code",
   "execution_count": 55,
   "id": "481c180d",
   "metadata": {},
   "outputs": [
    {
     "data": {
      "text/html": [
       "<table><tbody><tr><th style=\"text-align: left\">Format</th><td style=\"text-align: left\">coo</td></tr><tr><th style=\"text-align: left\">Data Type</th><td style=\"text-align: left\">int64</td></tr><tr><th style=\"text-align: left\">Shape</th><td style=\"text-align: left\">(215, 57, 31, 3, 3)</td></tr><tr><th style=\"text-align: left\">nnz</th><td style=\"text-align: left\">22088</td></tr><tr><th style=\"text-align: left\">Density</th><td style=\"text-align: left\">0.006460094555802693</td></tr><tr><th style=\"text-align: left\">Read-only</th><td style=\"text-align: left\">True</td></tr><tr><th style=\"text-align: left\">Size</th><td style=\"text-align: left\">1.0M</td></tr><tr><th style=\"text-align: left\">Storage ratio</th><td style=\"text-align: left\">0.0</td></tr></tbody></table>"
      ],
      "text/plain": [
       "<COO: shape=(215, 57, 31, 3, 3), dtype=int64, nnz=22088, fill_value=0>"
      ]
     },
     "execution_count": 55,
     "metadata": {},
     "output_type": "execute_result"
    }
   ],
   "source": [
    "x"
   ]
  },
  {
   "cell_type": "code",
   "execution_count": 64,
   "id": "d47a4c5e",
   "metadata": {},
   "outputs": [],
   "source": [
    "params.set_train_all_pis(False)\n",
    "params.set_train_all_rhos(True)\n",
    "params.set_train_all_etas(False)"
   ]
  },
  {
   "cell_type": "code",
   "execution_count": 65,
   "id": "e605e768",
   "metadata": {},
   "outputs": [
    {
     "name": "stdout",
     "output_type": "stream",
     "text": [
      "CPU times: user 44.8 s, sys: 159 ms, total: 45 s\n",
      "Wall time: 35.1 s\n"
     ]
    },
    {
     "data": {
      "text/plain": [
       "-703929.75"
      ]
     },
     "execution_count": 65,
     "metadata": {},
     "output_type": "execute_result"
    }
   ],
   "source": [
    "%%time\n",
    "momi.loglik(params, x)"
   ]
  },
  {
   "cell_type": "code",
   "execution_count": 69,
   "id": "ecce7689",
   "metadata": {},
   "outputs": [
    {
     "ename": "StoreException",
     "evalue": "Store occupied",
     "output_type": "error",
     "traceback": [
      "\u001b[0;31m---------------------------------------------------------------------------\u001b[0m",
      "\u001b[0;31mJaxStackTraceBeforeTransformation\u001b[0m         Traceback (most recent call last)",
      "File \u001b[0;32m/usr/lib/python3.10/runpy.py:196\u001b[0m, in \u001b[0;36m_run_module_as_main\u001b[0;34m(***failed resolving arguments***)\u001b[0m\n\u001b[1;32m    195\u001b[0m     sys\u001b[38;5;241m.\u001b[39margv[\u001b[38;5;241m0\u001b[39m] \u001b[38;5;241m=\u001b[39m mod_spec\u001b[38;5;241m.\u001b[39morigin\n\u001b[0;32m--> 196\u001b[0m \u001b[38;5;28;01mreturn\u001b[39;00m _run_code(code, main_globals, \u001b[38;5;28;01mNone\u001b[39;00m,\n\u001b[1;32m    197\u001b[0m                  \u001b[38;5;124m\"\u001b[39m\u001b[38;5;124m__main__\u001b[39m\u001b[38;5;124m\"\u001b[39m, mod_spec)\n",
      "File \u001b[0;32m/usr/lib/python3.10/runpy.py:86\u001b[0m, in \u001b[0;36m_run_code\u001b[0;34m(***failed resolving arguments***)\u001b[0m\n\u001b[1;32m     79\u001b[0m run_globals\u001b[38;5;241m.\u001b[39mupdate(\u001b[38;5;18m__name__\u001b[39m \u001b[38;5;241m=\u001b[39m mod_name,\n\u001b[1;32m     80\u001b[0m                    \u001b[38;5;18m__file__\u001b[39m \u001b[38;5;241m=\u001b[39m fname,\n\u001b[1;32m     81\u001b[0m                    __cached__ \u001b[38;5;241m=\u001b[39m cached,\n\u001b[0;32m   (...)\u001b[0m\n\u001b[1;32m     84\u001b[0m                    __package__ \u001b[38;5;241m=\u001b[39m pkg_name,\n\u001b[1;32m     85\u001b[0m                    __spec__ \u001b[38;5;241m=\u001b[39m mod_spec)\n\u001b[0;32m---> 86\u001b[0m exec(code, run_globals)\n\u001b[1;32m     87\u001b[0m \u001b[38;5;28;01mreturn\u001b[39;00m run_globals\n",
      "File \u001b[0;32m~/enesenv/lib/python3.10/site-packages/ipykernel_launcher.py:17\u001b[0m, in \u001b[0;36m<module>\u001b[0;34m\u001b[0m\n\u001b[1;32m     15\u001b[0m \u001b[38;5;28;01mfrom\u001b[39;00m \u001b[38;5;21;01mipykernel\u001b[39;00m \u001b[38;5;28;01mimport\u001b[39;00m kernelapp \u001b[38;5;28;01mas\u001b[39;00m app\n\u001b[0;32m---> 17\u001b[0m app\u001b[38;5;241m.\u001b[39mlaunch_new_instance()\n",
      "File \u001b[0;32m~/enesenv/lib/python3.10/site-packages/traitlets/config/application.py:976\u001b[0m, in \u001b[0;36mApplication.launch_instance\u001b[0;34m(***failed resolving arguments***)\u001b[0m\n\u001b[1;32m    975\u001b[0m app\u001b[38;5;241m.\u001b[39minitialize(argv)\n\u001b[0;32m--> 976\u001b[0m app\u001b[38;5;241m.\u001b[39mstart()\n",
      "File \u001b[0;32m~/enesenv/lib/python3.10/site-packages/ipykernel/kernelapp.py:712\u001b[0m, in \u001b[0;36mIPKernelApp.start\u001b[0;34m(***failed resolving arguments***)\u001b[0m\n\u001b[1;32m    711\u001b[0m \u001b[38;5;28;01mtry\u001b[39;00m:\n\u001b[0;32m--> 712\u001b[0m     \u001b[38;5;28mself\u001b[39m\u001b[38;5;241m.\u001b[39mio_loop\u001b[38;5;241m.\u001b[39mstart()\n\u001b[1;32m    713\u001b[0m \u001b[38;5;28;01mexcept\u001b[39;00m \u001b[38;5;167;01mKeyboardInterrupt\u001b[39;00m:\n",
      "File \u001b[0;32m~/enesenv/lib/python3.10/site-packages/tornado/platform/asyncio.py:215\u001b[0m, in \u001b[0;36mBaseAsyncIOLoop.start\u001b[0;34m(***failed resolving arguments***)\u001b[0m\n\u001b[1;32m    214\u001b[0m     asyncio\u001b[38;5;241m.\u001b[39mset_event_loop(\u001b[38;5;28mself\u001b[39m\u001b[38;5;241m.\u001b[39masyncio_loop)\n\u001b[0;32m--> 215\u001b[0m     \u001b[38;5;28mself\u001b[39m\u001b[38;5;241m.\u001b[39masyncio_loop\u001b[38;5;241m.\u001b[39mrun_forever()\n\u001b[1;32m    216\u001b[0m \u001b[38;5;28;01mfinally\u001b[39;00m:\n",
      "File \u001b[0;32m/usr/lib/python3.10/asyncio/base_events.py:600\u001b[0m, in \u001b[0;36mBaseEventLoop.run_forever\u001b[0;34m(***failed resolving arguments***)\u001b[0m\n\u001b[1;32m    599\u001b[0m \u001b[38;5;28;01mwhile\u001b[39;00m \u001b[38;5;28;01mTrue\u001b[39;00m:\n\u001b[0;32m--> 600\u001b[0m     \u001b[38;5;28mself\u001b[39m\u001b[38;5;241m.\u001b[39m_run_once()\n\u001b[1;32m    601\u001b[0m     \u001b[38;5;28;01mif\u001b[39;00m \u001b[38;5;28mself\u001b[39m\u001b[38;5;241m.\u001b[39m_stopping:\n",
      "File \u001b[0;32m/usr/lib/python3.10/asyncio/base_events.py:1896\u001b[0m, in \u001b[0;36mBaseEventLoop._run_once\u001b[0;34m(***failed resolving arguments***)\u001b[0m\n\u001b[1;32m   1895\u001b[0m     \u001b[38;5;28;01melse\u001b[39;00m:\n\u001b[0;32m-> 1896\u001b[0m         handle\u001b[38;5;241m.\u001b[39m_run()\n\u001b[1;32m   1897\u001b[0m handle \u001b[38;5;241m=\u001b[39m \u001b[38;5;28;01mNone\u001b[39;00m\n",
      "File \u001b[0;32m/usr/lib/python3.10/asyncio/events.py:80\u001b[0m, in \u001b[0;36mHandle._run\u001b[0;34m(***failed resolving arguments***)\u001b[0m\n\u001b[1;32m     79\u001b[0m \u001b[38;5;28;01mtry\u001b[39;00m:\n\u001b[0;32m---> 80\u001b[0m     \u001b[38;5;28mself\u001b[39m\u001b[38;5;241m.\u001b[39m_context\u001b[38;5;241m.\u001b[39mrun(\u001b[38;5;28mself\u001b[39m\u001b[38;5;241m.\u001b[39m_callback, \u001b[38;5;241m*\u001b[39m\u001b[38;5;28mself\u001b[39m\u001b[38;5;241m.\u001b[39m_args)\n\u001b[1;32m     81\u001b[0m \u001b[38;5;28;01mexcept\u001b[39;00m (\u001b[38;5;167;01mSystemExit\u001b[39;00m, \u001b[38;5;167;01mKeyboardInterrupt\u001b[39;00m):\n",
      "File \u001b[0;32m~/enesenv/lib/python3.10/site-packages/ipykernel/kernelbase.py:510\u001b[0m, in \u001b[0;36mKernel.dispatch_queue\u001b[0;34m(***failed resolving arguments***)\u001b[0m\n\u001b[1;32m    509\u001b[0m \u001b[38;5;28;01mtry\u001b[39;00m:\n\u001b[0;32m--> 510\u001b[0m     \u001b[38;5;28;01mawait\u001b[39;00m \u001b[38;5;28mself\u001b[39m\u001b[38;5;241m.\u001b[39mprocess_one()\n\u001b[1;32m    511\u001b[0m \u001b[38;5;28;01mexcept\u001b[39;00m \u001b[38;5;167;01mException\u001b[39;00m:\n",
      "File \u001b[0;32m~/enesenv/lib/python3.10/site-packages/ipykernel/kernelbase.py:499\u001b[0m, in \u001b[0;36mKernel.process_one\u001b[0;34m(***failed resolving arguments***)\u001b[0m\n\u001b[1;32m    498\u001b[0m         \u001b[38;5;28;01mreturn\u001b[39;00m \u001b[38;5;28;01mNone\u001b[39;00m\n\u001b[0;32m--> 499\u001b[0m \u001b[38;5;28;01mawait\u001b[39;00m dispatch(\u001b[38;5;241m*\u001b[39margs)\n",
      "File \u001b[0;32m~/enesenv/lib/python3.10/site-packages/ipykernel/kernelbase.py:406\u001b[0m, in \u001b[0;36mKernel.dispatch_shell\u001b[0;34m(***failed resolving arguments***)\u001b[0m\n\u001b[1;32m    405\u001b[0m     \u001b[38;5;28;01mif\u001b[39;00m inspect\u001b[38;5;241m.\u001b[39misawaitable(result):\n\u001b[0;32m--> 406\u001b[0m         \u001b[38;5;28;01mawait\u001b[39;00m result\n\u001b[1;32m    407\u001b[0m \u001b[38;5;28;01mexcept\u001b[39;00m \u001b[38;5;167;01mException\u001b[39;00m:\n",
      "File \u001b[0;32m~/enesenv/lib/python3.10/site-packages/ipykernel/kernelbase.py:730\u001b[0m, in \u001b[0;36mKernel.execute_request\u001b[0;34m(***failed resolving arguments***)\u001b[0m\n\u001b[1;32m    729\u001b[0m \u001b[38;5;28;01mif\u001b[39;00m inspect\u001b[38;5;241m.\u001b[39misawaitable(reply_content):\n\u001b[0;32m--> 730\u001b[0m     reply_content \u001b[38;5;241m=\u001b[39m \u001b[38;5;28;01mawait\u001b[39;00m reply_content\n\u001b[1;32m    732\u001b[0m \u001b[38;5;66;03m# Flush output before sending the reply.\u001b[39;00m\n",
      "File \u001b[0;32m~/enesenv/lib/python3.10/site-packages/ipykernel/ipkernel.py:383\u001b[0m, in \u001b[0;36mIPythonKernel.do_execute\u001b[0;34m(***failed resolving arguments***)\u001b[0m\n\u001b[1;32m    382\u001b[0m \u001b[38;5;28;01mif\u001b[39;00m with_cell_id:\n\u001b[0;32m--> 383\u001b[0m     res \u001b[38;5;241m=\u001b[39m shell\u001b[38;5;241m.\u001b[39mrun_cell(\n\u001b[1;32m    384\u001b[0m         code,\n\u001b[1;32m    385\u001b[0m         store_history\u001b[38;5;241m=\u001b[39mstore_history,\n\u001b[1;32m    386\u001b[0m         silent\u001b[38;5;241m=\u001b[39msilent,\n\u001b[1;32m    387\u001b[0m         cell_id\u001b[38;5;241m=\u001b[39mcell_id,\n\u001b[1;32m    388\u001b[0m     )\n\u001b[1;32m    389\u001b[0m \u001b[38;5;28;01melse\u001b[39;00m:\n",
      "File \u001b[0;32m~/enesenv/lib/python3.10/site-packages/ipykernel/zmqshell.py:528\u001b[0m, in \u001b[0;36mZMQInteractiveShell.run_cell\u001b[0;34m(***failed resolving arguments***)\u001b[0m\n\u001b[1;32m    527\u001b[0m \u001b[38;5;28mself\u001b[39m\u001b[38;5;241m.\u001b[39m_last_traceback \u001b[38;5;241m=\u001b[39m \u001b[38;5;28;01mNone\u001b[39;00m\n\u001b[0;32m--> 528\u001b[0m \u001b[38;5;28;01mreturn\u001b[39;00m \u001b[38;5;28msuper\u001b[39m()\u001b[38;5;241m.\u001b[39mrun_cell(\u001b[38;5;241m*\u001b[39margs, \u001b[38;5;241m*\u001b[39m\u001b[38;5;241m*\u001b[39mkwargs)\n",
      "File \u001b[0;32m~/enesenv/lib/python3.10/site-packages/IPython/core/interactiveshell.py:2881\u001b[0m, in \u001b[0;36mInteractiveShell.run_cell\u001b[0;34m(***failed resolving arguments***)\u001b[0m\n\u001b[1;32m   2880\u001b[0m \u001b[38;5;28;01mtry\u001b[39;00m:\n\u001b[0;32m-> 2881\u001b[0m     result \u001b[38;5;241m=\u001b[39m \u001b[38;5;28mself\u001b[39m\u001b[38;5;241m.\u001b[39m_run_cell(\n\u001b[1;32m   2882\u001b[0m         raw_cell, store_history, silent, shell_futures, cell_id\n\u001b[1;32m   2883\u001b[0m     )\n\u001b[1;32m   2884\u001b[0m \u001b[38;5;28;01mfinally\u001b[39;00m:\n",
      "File \u001b[0;32m~/enesenv/lib/python3.10/site-packages/IPython/core/interactiveshell.py:2936\u001b[0m, in \u001b[0;36mInteractiveShell._run_cell\u001b[0;34m(***failed resolving arguments***)\u001b[0m\n\u001b[1;32m   2935\u001b[0m \u001b[38;5;28;01mtry\u001b[39;00m:\n\u001b[0;32m-> 2936\u001b[0m     \u001b[38;5;28;01mreturn\u001b[39;00m runner(coro)\n\u001b[1;32m   2937\u001b[0m \u001b[38;5;28;01mexcept\u001b[39;00m \u001b[38;5;167;01mBaseException\u001b[39;00m \u001b[38;5;28;01mas\u001b[39;00m e:\n",
      "File \u001b[0;32m~/enesenv/lib/python3.10/site-packages/IPython/core/async_helpers.py:129\u001b[0m, in \u001b[0;36m_pseudo_sync_runner\u001b[0;34m(***failed resolving arguments***)\u001b[0m\n\u001b[1;32m    128\u001b[0m \u001b[38;5;28;01mtry\u001b[39;00m:\n\u001b[0;32m--> 129\u001b[0m     coro\u001b[38;5;241m.\u001b[39msend(\u001b[38;5;28;01mNone\u001b[39;00m)\n\u001b[1;32m    130\u001b[0m \u001b[38;5;28;01mexcept\u001b[39;00m \u001b[38;5;167;01mStopIteration\u001b[39;00m \u001b[38;5;28;01mas\u001b[39;00m exc:\n",
      "File \u001b[0;32m~/enesenv/lib/python3.10/site-packages/IPython/core/interactiveshell.py:3135\u001b[0m, in \u001b[0;36mInteractiveShell.run_cell_async\u001b[0;34m(***failed resolving arguments***)\u001b[0m\n\u001b[1;32m   3133\u001b[0m interactivity \u001b[38;5;241m=\u001b[39m \u001b[38;5;124m\"\u001b[39m\u001b[38;5;124mnone\u001b[39m\u001b[38;5;124m\"\u001b[39m \u001b[38;5;28;01mif\u001b[39;00m silent \u001b[38;5;28;01melse\u001b[39;00m \u001b[38;5;28mself\u001b[39m\u001b[38;5;241m.\u001b[39mast_node_interactivity\n\u001b[0;32m-> 3135\u001b[0m has_raised \u001b[38;5;241m=\u001b[39m \u001b[38;5;28;01mawait\u001b[39;00m \u001b[38;5;28mself\u001b[39m\u001b[38;5;241m.\u001b[39mrun_ast_nodes(code_ast\u001b[38;5;241m.\u001b[39mbody, cell_name,\n\u001b[1;32m   3136\u001b[0m        interactivity\u001b[38;5;241m=\u001b[39minteractivity, compiler\u001b[38;5;241m=\u001b[39mcompiler, result\u001b[38;5;241m=\u001b[39mresult)\n\u001b[1;32m   3138\u001b[0m \u001b[38;5;28mself\u001b[39m\u001b[38;5;241m.\u001b[39mlast_execution_succeeded \u001b[38;5;241m=\u001b[39m \u001b[38;5;129;01mnot\u001b[39;00m has_raised\n",
      "File \u001b[0;32m~/enesenv/lib/python3.10/site-packages/IPython/core/interactiveshell.py:3338\u001b[0m, in \u001b[0;36mInteractiveShell.run_ast_nodes\u001b[0;34m(***failed resolving arguments***)\u001b[0m\n\u001b[1;32m   3337\u001b[0m     asy \u001b[38;5;241m=\u001b[39m compare(code)\n\u001b[0;32m-> 3338\u001b[0m \u001b[38;5;28;01mif\u001b[39;00m \u001b[38;5;28;01mawait\u001b[39;00m \u001b[38;5;28mself\u001b[39m\u001b[38;5;241m.\u001b[39mrun_code(code, result, async_\u001b[38;5;241m=\u001b[39masy):\n\u001b[1;32m   3339\u001b[0m     \u001b[38;5;28;01mreturn\u001b[39;00m \u001b[38;5;28;01mTrue\u001b[39;00m\n",
      "File \u001b[0;32m~/enesenv/lib/python3.10/site-packages/IPython/core/interactiveshell.py:3398\u001b[0m, in \u001b[0;36mInteractiveShell.run_code\u001b[0;34m(***failed resolving arguments***)\u001b[0m\n\u001b[1;32m   3397\u001b[0m     \u001b[38;5;28;01melse\u001b[39;00m:\n\u001b[0;32m-> 3398\u001b[0m         exec(code_obj, \u001b[38;5;28mself\u001b[39m\u001b[38;5;241m.\u001b[39muser_global_ns, \u001b[38;5;28mself\u001b[39m\u001b[38;5;241m.\u001b[39muser_ns)\n\u001b[1;32m   3399\u001b[0m \u001b[38;5;28;01mfinally\u001b[39;00m:\n\u001b[1;32m   3400\u001b[0m     \u001b[38;5;66;03m# Reset our crash handler in place\u001b[39;00m\n",
      "Input \u001b[0;32mIn [22]\u001b[0m, in \u001b[0;36m<cell line: 1>\u001b[0;34m()\u001b[0m\n\u001b[0;32m----> 1\u001b[0m get_ipython()\u001b[38;5;241m.\u001b[39mrun_cell_magic(\u001b[38;5;124m'\u001b[39m\u001b[38;5;124mtime\u001b[39m\u001b[38;5;124m'\u001b[39m, \u001b[38;5;124m'\u001b[39m\u001b[38;5;124m'\u001b[39m, \u001b[38;5;124m'\u001b[39m\u001b[38;5;124mmomi.total_branch_length()\u001b[39m\u001b[38;5;130;01m\\n\u001b[39;00m\u001b[38;5;124m'\u001b[39m)\n",
      "File \u001b[0;32m~/enesenv/lib/python3.10/site-packages/IPython/core/interactiveshell.py:2358\u001b[0m, in \u001b[0;36mInteractiveShell.run_cell_magic\u001b[0;34m(***failed resolving arguments***)\u001b[0m\n\u001b[1;32m   2357\u001b[0m     args \u001b[38;5;241m=\u001b[39m (magic_arg_s, cell)\n\u001b[0;32m-> 2358\u001b[0m     result \u001b[38;5;241m=\u001b[39m fn(\u001b[38;5;241m*\u001b[39margs, \u001b[38;5;241m*\u001b[39m\u001b[38;5;241m*\u001b[39mkwargs)\n\u001b[1;32m   2359\u001b[0m \u001b[38;5;28;01mreturn\u001b[39;00m result\n",
      "File \u001b[0;32m~/enesenv/lib/python3.10/site-packages/IPython/core/magics/execution.py:1308\u001b[0m, in \u001b[0;36mExecutionMagics.time\u001b[0;34m(***failed resolving arguments***)\u001b[0m\n\u001b[1;32m   1307\u001b[0m \u001b[38;5;28;01mtry\u001b[39;00m:\n\u001b[0;32m-> 1308\u001b[0m     out \u001b[38;5;241m=\u001b[39m \u001b[38;5;28meval\u001b[39m(code, glob, local_ns)\n\u001b[1;32m   1309\u001b[0m \u001b[38;5;28;01mexcept\u001b[39;00m:\n",
      "File \u001b[0;32m<timed eval>:1\u001b[0m, in \u001b[0;36m<module>\u001b[0;34m\u001b[0m\n",
      "File \u001b[0;32m/mnt/turbo/eneswork/jthlab/momi3/src/momi3/MOMI.py:97\u001b[0m, in \u001b[0;36mMomi.total_branch_length\u001b[0;34m(***failed resolving arguments***)\u001b[0m\n\u001b[1;32m     96\u001b[0m etbl \u001b[38;5;241m=\u001b[39m \u001b[38;5;28mself\u001b[39m\u001b[38;5;241m.\u001b[39m_JAX_functions\u001b[38;5;241m.\u001b[39metbl\n\u001b[0;32m---> 97\u001b[0m \u001b[38;5;28;01mreturn\u001b[39;00m etbl(theta_dict)\n",
      "File \u001b[0;32m/mnt/turbo/eneswork/jthlab/momi3/src/momi3/JAX_functions.py:304\u001b[0m, in \u001b[0;36mJAX_functions.etbl\u001b[0;34m(***failed resolving arguments***)\u001b[0m\n\u001b[1;32m    302\u001b[0m     X_batch[\u001b[38;5;241m2\u001b[39m][pop] \u001b[38;5;241m=\u001b[39m jax\u001b[38;5;241m.\u001b[39mnn\u001b[38;5;241m.\u001b[39mone_hot(jnp\u001b[38;5;241m.\u001b[39marray([ns]), ns \u001b[38;5;241m+\u001b[39m \u001b[38;5;241m1\u001b[39m)[\u001b[38;5;241m0\u001b[39m]\n\u001b[0;32m--> 304\u001b[0m ret0 \u001b[38;5;241m=\u001b[39m esfs_tensor_prod(theta_dict, X_batch[\u001b[38;5;241m0\u001b[39m], auxd, demo, _f)\n\u001b[1;32m    305\u001b[0m ret1 \u001b[38;5;241m=\u001b[39m esfs_tensor_prod(theta_dict, X_batch[\u001b[38;5;241m1\u001b[39m], auxd, demo, _f)\n",
      "File \u001b[0;32m/mnt/turbo/eneswork/jthlab/momi3/src/momi3/JAX_functions.py:58\u001b[0m, in \u001b[0;36mesfs_tensor_prod\u001b[0;34m(***failed resolving arguments***)\u001b[0m\n\u001b[1;32m     57\u001b[0m         update(demo_dict, path, val)\n\u001b[0;32m---> 58\u001b[0m \u001b[38;5;28;01mreturn\u001b[39;00m _f(demo_dict, X, auxd)\n",
      "File \u001b[0;32m/mnt/turbo/eneswork/jthlab/momi3/src/momi3/event_tree.py:228\u001b[0m, in \u001b[0;36mETBuilder.execute\u001b[0;34m(***failed resolving arguments***)\u001b[0m\n\u001b[1;32m    227\u001b[0m ev \u001b[38;5;241m=\u001b[39m e\u001b[38;5;241m.\u001b[39mget(\u001b[38;5;124m\"\u001b[39m\u001b[38;5;124mevent\u001b[39m\u001b[38;5;124m\"\u001b[39m, events\u001b[38;5;241m.\u001b[39mNoOp())\n\u001b[0;32m--> 228\u001b[0m new_st \u001b[38;5;241m=\u001b[39m ev\u001b[38;5;241m.\u001b[39mexecute(st, params\u001b[38;5;241m=\u001b[39mparams, aux\u001b[38;5;241m=\u001b[39maux)\n\u001b[1;32m    229\u001b[0m \u001b[38;5;28;01massert\u001b[39;00m \u001b[38;5;28misinstance\u001b[39m(new_st, State)\n",
      "File \u001b[0;32m/mnt/turbo/eneswork/jthlab/momi3/src/momi3/events/event.py:34\u001b[0m, in \u001b[0;36mEvent.execute\u001b[0;34m(***failed resolving arguments***)\u001b[0m\n\u001b[1;32m     33\u001b[0m \u001b[38;5;28;01mdef\u001b[39;00m \u001b[38;5;21mexecute\u001b[39m(\u001b[38;5;28mself\u001b[39m, st: State, params: \u001b[38;5;28mdict\u001b[39m, aux: T) \u001b[38;5;241m-\u001b[39m\u001b[38;5;241m>\u001b[39m State:\n\u001b[0;32m---> 34\u001b[0m     st \u001b[38;5;241m=\u001b[39m \u001b[38;5;28mself\u001b[39m\u001b[38;5;241m.\u001b[39m_execute_impl(st, params, aux)\n\u001b[1;32m     35\u001b[0m     \u001b[38;5;28;01mif\u001b[39;00m os\u001b[38;5;241m.\u001b[39menviron\u001b[38;5;241m.\u001b[39mget(\u001b[38;5;124m\"\u001b[39m\u001b[38;5;124mMOMI_PRINT_EVENTS\u001b[39m\u001b[38;5;124m\"\u001b[39m):\n",
      "File \u001b[0;32m/mnt/turbo/eneswork/jthlab/momi3/src/momi3/events/lift.py:192\u001b[0m, in \u001b[0;36mLift._execute_impl\u001b[0;34m(***failed resolving arguments***)\u001b[0m\n\u001b[1;32m    191\u001b[0m     Ne \u001b[38;5;241m=\u001b[39m {pop: size_d[pop] \u001b[38;5;28;01mfor\u001b[39;00m pop \u001b[38;5;129;01min\u001b[39;00m involved_pops}\n\u001b[0;32m--> 192\u001b[0m     plp, etbl \u001b[38;5;241m=\u001b[39m _liftmulti(\n\u001b[1;32m    193\u001b[0m         plp, axes, Ne, (t0_val, t1_val), M, mats[\u001b[38;5;124m\"\u001b[39m\u001b[38;5;124mcmm\u001b[39m\u001b[38;5;124m\"\u001b[39m]\n\u001b[1;32m    194\u001b[0m     )\n\u001b[1;32m    195\u001b[0m inds \u001b[38;5;241m=\u001b[39m [\u001b[38;5;241m0\u001b[39m] \u001b[38;5;241m*\u001b[39m st\u001b[38;5;241m.\u001b[39mpl\u001b[38;5;241m.\u001b[39mndim\n",
      "File \u001b[0;32m/mnt/turbo/eneswork/jthlab/momi3/src/momi3/events/lift.py:256\u001b[0m, in \u001b[0;36m_liftmulti\u001b[0;34m(***failed resolving arguments***)\u001b[0m\n\u001b[1;32m    255\u001b[0m params \u001b[38;5;241m=\u001b[39m {\u001b[38;5;124m\"\u001b[39m\u001b[38;5;124mNe\u001b[39m\u001b[38;5;124m\"\u001b[39m: Ne, \u001b[38;5;124m\"\u001b[39m\u001b[38;5;124mmig\u001b[39m\u001b[38;5;124m\"\u001b[39m: mig_mat}\n\u001b[0;32m--> 256\u001b[0m \u001b[38;5;28;01mreturn\u001b[39;00m lift_cm(params, t, pl, axes, cmm)\n",
      "File \u001b[0;32m/mnt/turbo/eneswork/jthlab/momi3/src/momi3/migration.py:47\u001b[0m, in \u001b[0;36mlift_cm\u001b[0;34m(***failed resolving arguments***)\u001b[0m\n\u001b[1;32m     46\u001b[0m     f \u001b[38;5;241m=\u001b[39m _lift_cm_exp\n\u001b[0;32m---> 47\u001b[0m \u001b[38;5;28;01mreturn\u001b[39;00m f(params, t, pl, axes, aux)\n",
      "File \u001b[0;32m/mnt/turbo/eneswork/jthlab/momi3/src/momi3/migration.py:106\u001b[0m, in \u001b[0;36m_lift_cm_exp\u001b[0;34m(***failed resolving arguments***)\u001b[0m\n\u001b[1;32m    105\u001b[0m primal_args \u001b[38;5;241m=\u001b[39m (Q_mig_T, Q_mut\u001b[38;5;241m.\u001b[39mT, Q_drift\u001b[38;5;241m.\u001b[39mT, dims, axes, Ne, t, aux)\n\u001b[0;32m--> 106\u001b[0m plp \u001b[38;5;241m=\u001b[39m solve(pl, primal_args)[\u001b[38;5;241m0\u001b[39m]\n\u001b[1;32m    107\u001b[0m \u001b[38;5;66;03m# compute d/dtheta x(t,theta)|{theta=0} using the forward sensitivity method.\u001b[39;00m\n\u001b[1;32m    108\u001b[0m \u001b[38;5;66;03m# d/dt d/dtheta x(t, theta) = d/dtheta F(x(t, theta), theta) = J_F dx/dtheta + dF/dtheta\u001b[39;00m\n\u001b[1;32m    109\u001b[0m \u001b[38;5;66;03m# dF/dtheta = d(Q @ x)/dtheta = (Q_mut @ x)\u001b[39;00m\n\u001b[1;32m    110\u001b[0m \u001b[38;5;66;03m# the initial condition is d/dtheta(x(0, theta)) = 0.; x(0,theta) = e0\u001b[39;00m\n\u001b[1;32m    111\u001b[0m \n\u001b[1;32m    112\u001b[0m \u001b[38;5;66;03m# for computing branch length, we only need to track the populations that are involved in the migration\u001b[39;00m\n",
      "File \u001b[0;32m/mnt/turbo/eneswork/jthlab/momi3/src/momi3/migration.py:94\u001b[0m, in \u001b[0;36m_lift_cm_exp.<locals>.solve\u001b[0;34m(***failed resolving arguments***)\u001b[0m\n\u001b[1;32m     93\u001b[0m \u001b[38;5;28;01mdef\u001b[39;00m \u001b[38;5;21msolve\u001b[39m(y0, args):\n\u001b[0;32m---> 94\u001b[0m     \u001b[38;5;28;01mreturn\u001b[39;00m dfx\u001b[38;5;241m.\u001b[39mdiffeqsolve(\n\u001b[1;32m     95\u001b[0m         term,\n\u001b[1;32m     96\u001b[0m         solver,\n\u001b[1;32m     97\u001b[0m         t0\u001b[38;5;241m=\u001b[39mt[\u001b[38;5;241m0\u001b[39m],\n\u001b[1;32m     98\u001b[0m         t1\u001b[38;5;241m=\u001b[39mt[\u001b[38;5;241m1\u001b[39m],\n\u001b[1;32m     99\u001b[0m         dt0\u001b[38;5;241m=\u001b[39m(t[\u001b[38;5;241m1\u001b[39m] \u001b[38;5;241m-\u001b[39m t[\u001b[38;5;241m0\u001b[39m]) \u001b[38;5;241m/\u001b[39m \u001b[38;5;241m50.0\u001b[39m,\n\u001b[1;32m    100\u001b[0m         y0\u001b[38;5;241m=\u001b[39my0,\n\u001b[1;32m    101\u001b[0m         args\u001b[38;5;241m=\u001b[39margs,\n\u001b[1;32m    102\u001b[0m         stepsize_controller\u001b[38;5;241m=\u001b[39mssc,\n\u001b[1;32m    103\u001b[0m     )\u001b[38;5;241m.\u001b[39mys\n",
      "File \u001b[0;32m~/enesenv/lib/python3.10/site-packages/equinox/jit.py:70\u001b[0m, in \u001b[0;36m_JitWrapper.__call__\u001b[0;34m(***failed resolving arguments***)\u001b[0m\n\u001b[1;32m     69\u001b[0m \u001b[38;5;28;01melse\u001b[39;00m:\n\u001b[0;32m---> 70\u001b[0m     \u001b[38;5;28;01mreturn\u001b[39;00m \u001b[38;5;28mself\u001b[39m\u001b[38;5;241m.\u001b[39m_fun_wrapper(\u001b[38;5;28;01mFalse\u001b[39;00m, args, kwargs)\n",
      "File \u001b[0;32m~/enesenv/lib/python3.10/site-packages/equinox/jit.py:59\u001b[0m, in \u001b[0;36m_JitWrapper._fun_wrapper\u001b[0;34m(***failed resolving arguments***)\u001b[0m\n\u001b[1;32m     58\u001b[0m \u001b[38;5;28;01melse\u001b[39;00m:\n\u001b[0;32m---> 59\u001b[0m     dynamic_out, static_out \u001b[38;5;241m=\u001b[39m \u001b[38;5;28mself\u001b[39m\u001b[38;5;241m.\u001b[39m_cached(dynamic, static)\n\u001b[1;32m     60\u001b[0m     \u001b[38;5;28;01mreturn\u001b[39;00m combine(dynamic_out, static_out\u001b[38;5;241m.\u001b[39mvalue)\n",
      "File \u001b[0;32m~/enesenv/lib/python3.10/site-packages/equinox/jit.py:30\u001b[0m, in \u001b[0;36m_filter_jit_cache.<locals>.fun_wrapped\u001b[0;34m(***failed resolving arguments***)\u001b[0m\n\u001b[1;32m     29\u001b[0m args, kwargs \u001b[38;5;241m=\u001b[39m hashable_combine(dynamic_spec, static_spec)\n\u001b[0;32m---> 30\u001b[0m out \u001b[38;5;241m=\u001b[39m fun(\u001b[38;5;241m*\u001b[39margs, \u001b[38;5;241m*\u001b[39m\u001b[38;5;241m*\u001b[39mkwargs)\n\u001b[1;32m     31\u001b[0m dynamic_out, static_out \u001b[38;5;241m=\u001b[39m partition(out, is_array)\n",
      "File \u001b[0;32m~/enesenv/lib/python3.10/site-packages/diffrax/integrate.py:752\u001b[0m, in \u001b[0;36mdiffeqsolve\u001b[0;34m(***failed resolving arguments***)\u001b[0m\n\u001b[1;32m    748\u001b[0m \u001b[38;5;66;03m#\u001b[39;00m\n\u001b[1;32m    749\u001b[0m \u001b[38;5;66;03m# Main loop\u001b[39;00m\n\u001b[1;32m    750\u001b[0m \u001b[38;5;66;03m#\u001b[39;00m\n\u001b[0;32m--> 752\u001b[0m final_state, aux_stats \u001b[38;5;241m=\u001b[39m adjoint\u001b[38;5;241m.\u001b[39mloop(\n\u001b[1;32m    753\u001b[0m     args\u001b[38;5;241m=\u001b[39margs,\n\u001b[1;32m    754\u001b[0m     terms\u001b[38;5;241m=\u001b[39mterms,\n\u001b[1;32m    755\u001b[0m     solver\u001b[38;5;241m=\u001b[39msolver,\n\u001b[1;32m    756\u001b[0m     stepsize_controller\u001b[38;5;241m=\u001b[39mstepsize_controller,\n\u001b[1;32m    757\u001b[0m     discrete_terminating_event\u001b[38;5;241m=\u001b[39mdiscrete_terminating_event,\n\u001b[1;32m    758\u001b[0m     saveat\u001b[38;5;241m=\u001b[39msaveat,\n\u001b[1;32m    759\u001b[0m     t0\u001b[38;5;241m=\u001b[39mt0,\n\u001b[1;32m    760\u001b[0m     t1\u001b[38;5;241m=\u001b[39mt1,\n\u001b[1;32m    761\u001b[0m     dt0\u001b[38;5;241m=\u001b[39mdt0,\n\u001b[1;32m    762\u001b[0m     max_steps\u001b[38;5;241m=\u001b[39mmax_steps,\n\u001b[1;32m    763\u001b[0m     init_state\u001b[38;5;241m=\u001b[39minit_state,\n\u001b[1;32m    764\u001b[0m     throw\u001b[38;5;241m=\u001b[39mthrow,\n\u001b[1;32m    765\u001b[0m     passed_solver_state\u001b[38;5;241m=\u001b[39mpassed_solver_state,\n\u001b[1;32m    766\u001b[0m     passed_controller_state\u001b[38;5;241m=\u001b[39mpassed_controller_state,\n\u001b[1;32m    767\u001b[0m )\n\u001b[1;32m    769\u001b[0m \u001b[38;5;66;03m#\u001b[39;00m\n\u001b[1;32m    770\u001b[0m \u001b[38;5;66;03m# Finish up\u001b[39;00m\n\u001b[1;32m    771\u001b[0m \u001b[38;5;66;03m#\u001b[39;00m\n",
      "File \u001b[0;32m~/enesenv/lib/python3.10/site-packages/diffrax/adjoint.py:286\u001b[0m, in \u001b[0;36mRecursiveCheckpointAdjoint.loop\u001b[0;34m(***failed resolving arguments***)\u001b[0m\n\u001b[1;32m    285\u001b[0m     msg \u001b[38;5;241m=\u001b[39m \u001b[38;5;28;01mNone\u001b[39;00m\n\u001b[0;32m--> 286\u001b[0m final_state \u001b[38;5;241m=\u001b[39m \u001b[38;5;28mself\u001b[39m\u001b[38;5;241m.\u001b[39m_loop(\n\u001b[1;32m    287\u001b[0m     terms\u001b[38;5;241m=\u001b[39mterms,\n\u001b[1;32m    288\u001b[0m     saveat\u001b[38;5;241m=\u001b[39msaveat,\n\u001b[1;32m    289\u001b[0m     init_state\u001b[38;5;241m=\u001b[39minit_state,\n\u001b[1;32m    290\u001b[0m     max_steps\u001b[38;5;241m=\u001b[39mmax_steps,\n\u001b[1;32m    291\u001b[0m     inner_while_loop\u001b[38;5;241m=\u001b[39minner_while_loop,\n\u001b[1;32m    292\u001b[0m     outer_while_loop\u001b[38;5;241m=\u001b[39mouter_while_loop,\n\u001b[1;32m    293\u001b[0m     \u001b[38;5;241m*\u001b[39m\u001b[38;5;241m*\u001b[39mkwargs,\n\u001b[1;32m    294\u001b[0m )\n\u001b[1;32m    295\u001b[0m \u001b[38;5;28;01mif\u001b[39;00m msg \u001b[38;5;129;01mis\u001b[39;00m \u001b[38;5;129;01mnot\u001b[39;00m \u001b[38;5;28;01mNone\u001b[39;00m:\n",
      "File \u001b[0;32m~/enesenv/lib/python3.10/site-packages/diffrax/integrate.py:371\u001b[0m, in \u001b[0;36mloop\u001b[0;34m(***failed resolving arguments***)\u001b[0m\n\u001b[1;32m    369\u001b[0m     \u001b[38;5;28;01mreturn\u001b[39;00m new_state\n\u001b[0;32m--> 371\u001b[0m final_state \u001b[38;5;241m=\u001b[39m outer_while_loop(\n\u001b[1;32m    372\u001b[0m     cond_fun, body_fun, init_state, max_steps\u001b[38;5;241m=\u001b[39mmax_steps, buffers\u001b[38;5;241m=\u001b[39m_outer_buffers\n\u001b[1;32m    373\u001b[0m )\n\u001b[1;32m    375\u001b[0m \u001b[38;5;28;01mdef\u001b[39;00m \u001b[38;5;21m_save_t1\u001b[39m(subsaveat, save_state):\n",
      "File \u001b[0;32m/usr/lib/python3.10/contextlib.py:79\u001b[0m, in \u001b[0;36mContextDecorator.__call__.<locals>.inner\u001b[0;34m(***failed resolving arguments***)\u001b[0m\n\u001b[1;32m     78\u001b[0m \u001b[38;5;28;01mwith\u001b[39;00m \u001b[38;5;28mself\u001b[39m\u001b[38;5;241m.\u001b[39m_recreate_cm():\n\u001b[0;32m---> 79\u001b[0m     \u001b[38;5;28;01mreturn\u001b[39;00m func(\u001b[38;5;241m*\u001b[39margs, \u001b[38;5;241m*\u001b[39m\u001b[38;5;241m*\u001b[39mkwds)\n",
      "File \u001b[0;32m~/enesenv/lib/python3.10/site-packages/equinox/internal/while_loop/while_loop.py:85\u001b[0m, in \u001b[0;36mwhile_loop\u001b[0;34m(***failed resolving arguments***)\u001b[0m\n\u001b[1;32m     84\u001b[0m     \u001b[38;5;28;01mdel\u001b[39;00m kind, base\n\u001b[0;32m---> 85\u001b[0m     \u001b[38;5;28;01mreturn\u001b[39;00m checkpointed_while_loop(\n\u001b[1;32m     86\u001b[0m         cond_fun,\n\u001b[1;32m     87\u001b[0m         body_fun,\n\u001b[1;32m     88\u001b[0m         init_val,\n\u001b[1;32m     89\u001b[0m         max_steps\u001b[38;5;241m=\u001b[39mmax_steps,\n\u001b[1;32m     90\u001b[0m         buffers\u001b[38;5;241m=\u001b[39mbuffers,\n\u001b[1;32m     91\u001b[0m         checkpoints\u001b[38;5;241m=\u001b[39mcheckpoints,\n\u001b[1;32m     92\u001b[0m     )\n\u001b[1;32m     93\u001b[0m \u001b[38;5;28;01melif\u001b[39;00m kind \u001b[38;5;241m==\u001b[39m \u001b[38;5;124m\"\u001b[39m\u001b[38;5;124mbounded\u001b[39m\u001b[38;5;124m\"\u001b[39m:\n",
      "File \u001b[0;32m~/enesenv/lib/python3.10/site-packages/equinox/internal/while_loop/checkpointed.py:231\u001b[0m, in \u001b[0;36mcheckpointed_while_loop\u001b[0;34m(***failed resolving arguments***)\u001b[0m\n\u001b[1;32m    230\u001b[0m vjp_arg \u001b[38;5;241m=\u001b[39m (init_val, body_fun)\n\u001b[0;32m--> 231\u001b[0m _, _, final_val \u001b[38;5;241m=\u001b[39m _checkpointed_while_loop(vjp_arg, cond_fun, checkpoints, buffers)\n\u001b[1;32m    232\u001b[0m \u001b[38;5;28;01mreturn\u001b[39;00m final_val\n",
      "File \u001b[0;32m~/enesenv/lib/python3.10/site-packages/equinox/ad.py:574\u001b[0m, in \u001b[0;36mfilter_custom_vjp.__call__\u001b[0;34m(***failed resolving arguments***)\u001b[0m\n\u001b[1;32m    571\u001b[0m array_args_kwargs \u001b[38;5;241m=\u001b[39m nondifferentiable(\n\u001b[1;32m    572\u001b[0m     array_args_kwargs, name\u001b[38;5;241m=\u001b[39m\u001b[38;5;124m\"\u001b[39m\u001b[38;5;124m`*args` and `**kwargs` to `filter_custom_vjp`\u001b[39m\u001b[38;5;124m\"\u001b[39m\n\u001b[1;32m    573\u001b[0m )\n\u001b[0;32m--> 574\u001b[0m out \u001b[38;5;241m=\u001b[39m \u001b[38;5;28mself\u001b[39m\u001b[38;5;241m.\u001b[39mfn_wrapped(\n\u001b[1;32m    575\u001b[0m     nonarray_vjp_arg,\n\u001b[1;32m    576\u001b[0m     nonarray_args_kwargs,\n\u001b[1;32m    577\u001b[0m     diff_array_vjp_arg,\n\u001b[1;32m    578\u001b[0m     nondiff_array_vjp_arg,\n\u001b[1;32m    579\u001b[0m     array_args_kwargs,\n\u001b[1;32m    580\u001b[0m )\n\u001b[1;32m    581\u001b[0m diff_array_out, nondiff_array_out, nonarray_out \u001b[38;5;241m=\u001b[39m out\n",
      "\u001b[0;31mJaxStackTraceBeforeTransformation\u001b[0m: jax._src.linear_util.StoreException: Store occupied\n\nThe preceding stack trace is the source of the JAX operation that, once transformed by JAX, triggered the following exception.\n\n--------------------",
      "\nThe above exception was the direct cause of the following exception:\n",
      "\u001b[0;31mStoreException\u001b[0m                            Traceback (most recent call last)",
      "File \u001b[0;32m<timed eval>:1\u001b[0m, in \u001b[0;36m<module>\u001b[0;34m\u001b[0m\n",
      "File \u001b[0;32m/mnt/turbo/eneswork/jthlab/momi3/src/momi3/MOMI.py:196\u001b[0m, in \u001b[0;36mMomi.loglik_with_gradient\u001b[0;34m(self, params, jsfs, theta_train_dict, transformed)\u001b[0m\n\u001b[1;32m    190\u001b[0m     theta_train_path_dict \u001b[38;5;241m=\u001b[39m {\n\u001b[1;32m    191\u001b[0m         \u001b[38;5;28mself\u001b[39m\u001b[38;5;241m.\u001b[39m_key_to_paths(\n\u001b[1;32m    192\u001b[0m             key, params, transformed\n\u001b[1;32m    193\u001b[0m         ): theta_train_dict[key] \u001b[38;5;28;01mfor\u001b[39;00m key \u001b[38;5;129;01min\u001b[39;00m theta_train_dict}\n\u001b[1;32m    195\u001b[0m data \u001b[38;5;241m=\u001b[39m \u001b[38;5;28mself\u001b[39m\u001b[38;5;241m.\u001b[39m_get_data(jsfs)\n\u001b[0;32m--> 196\u001b[0m V, G \u001b[38;5;241m=\u001b[39m \u001b[38;5;28;43mself\u001b[39;49m\u001b[38;5;241;43m.\u001b[39;49m\u001b[43m_JAX_functions\u001b[49m\u001b[38;5;241;43m.\u001b[39;49m\u001b[43mloglik_and_grad\u001b[49m\u001b[43m(\u001b[49m\n\u001b[1;32m    197\u001b[0m \u001b[43m    \u001b[49m\u001b[43mtheta_train_path_dict\u001b[49m\u001b[43m,\u001b[49m\u001b[43m \u001b[49m\u001b[43mtpd\u001b[49m\u001b[43m,\u001b[49m\u001b[43m \u001b[49m\u001b[43mdata\u001b[49m\u001b[43m,\u001b[49m\u001b[43m \u001b[49m\u001b[43mtransformed\u001b[49m\u001b[38;5;241;43m=\u001b[39;49m\u001b[43mtransformed\u001b[49m\n\u001b[1;32m    198\u001b[0m \u001b[43m\u001b[49m\u001b[43m)\u001b[49m\n\u001b[1;32m    200\u001b[0m \u001b[38;5;28;01mif\u001b[39;00m transformed:\n\u001b[1;32m    201\u001b[0m     G \u001b[38;5;241m=\u001b[39m G[\u001b[38;5;241m0\u001b[39m] \u001b[38;5;241m|\u001b[39m G[\u001b[38;5;241m1\u001b[39m] \u001b[38;5;241m|\u001b[39m G[\u001b[38;5;241m2\u001b[39m] \u001b[38;5;241m|\u001b[39m G[\u001b[38;5;241m3\u001b[39m]\n",
      "File \u001b[0;32m/mnt/turbo/eneswork/jthlab/momi3/src/momi3/JAX_functions.py:460\u001b[0m, in \u001b[0;36mJAX_functions.loglik_and_grad\u001b[0;34m(self, theta_train_dict, theta_path_dict, data, transformed)\u001b[0m\n\u001b[1;32m    457\u001b[0m \u001b[38;5;28;01melse\u001b[39;00m:\n\u001b[1;32m    458\u001b[0m     lagb \u001b[38;5;241m=\u001b[39m \u001b[38;5;28mself\u001b[39m\u001b[38;5;241m.\u001b[39mloglik_and_grad_batch\n\u001b[0;32m--> 460\u001b[0m V, G \u001b[38;5;241m=\u001b[39m \u001b[38;5;28;43mself\u001b[39;49m\u001b[38;5;241;43m.\u001b[39;49m\u001b[43m_run_fun\u001b[49m\u001b[43m(\u001b[49m\n\u001b[1;32m    461\u001b[0m \u001b[43m    \u001b[49m\u001b[43mlagb\u001b[49m\u001b[43m,\u001b[49m\n\u001b[1;32m    462\u001b[0m \u001b[43m    \u001b[49m\u001b[43mtheta_train_dict\u001b[49m\u001b[43m,\u001b[49m\n\u001b[1;32m    463\u001b[0m \u001b[43m    \u001b[49m\u001b[43mtheta_path_dict\u001b[49m\u001b[43m,\u001b[49m\n\u001b[1;32m    464\u001b[0m \u001b[43m    \u001b[49m\u001b[43mdata\u001b[49m\n\u001b[1;32m    465\u001b[0m \u001b[43m\u001b[49m\u001b[43m)\u001b[49m\n\u001b[1;32m    467\u001b[0m \u001b[38;5;28;01mif\u001b[39;00m n_devices \u001b[38;5;241m>\u001b[39m \u001b[38;5;241m1\u001b[39m:\n\u001b[1;32m    468\u001b[0m     V \u001b[38;5;241m=\u001b[39m V\u001b[38;5;241m.\u001b[39msum()\n",
      "File \u001b[0;32m/mnt/turbo/eneswork/jthlab/momi3/src/momi3/JAX_functions.py:335\u001b[0m, in \u001b[0;36mJAX_functions._run_fun\u001b[0;34m(self, fun, theta_train_dict, theta_path_dict, data)\u001b[0m\n\u001b[1;32m    331\u001b[0m \u001b[38;5;66;03m# logging.warn('X: ' + ' '.join([str(X_batches[pop].shape) for pop in X_batches]))\u001b[39;00m\n\u001b[1;32m    332\u001b[0m \u001b[38;5;66;03m# logging.warn('sfs: ' + str(sfs_batches.shape))\u001b[39;00m\n\u001b[1;32m    334\u001b[0m \u001b[38;5;28;01mif\u001b[39;00m n_devices \u001b[38;5;241m==\u001b[39m \u001b[38;5;241m1\u001b[39m:\n\u001b[0;32m--> 335\u001b[0m     \u001b[38;5;28;01mreturn\u001b[39;00m \u001b[43mfun\u001b[49m\u001b[43m(\u001b[49m\n\u001b[1;32m    336\u001b[0m \u001b[43m        \u001b[49m\u001b[43mtheta_train_dict\u001b[49m\u001b[43m,\u001b[49m\n\u001b[1;32m    337\u001b[0m \u001b[43m        \u001b[49m\u001b[43mtheta_path_dict\u001b[49m\u001b[43m,\u001b[49m\n\u001b[1;32m    338\u001b[0m \u001b[43m        \u001b[49m\u001b[43m{\u001b[49m\u001b[43mpop\u001b[49m\u001b[43m:\u001b[49m\u001b[43m \u001b[49m\u001b[43mX_batches\u001b[49m\u001b[43m[\u001b[49m\u001b[43mpop\u001b[49m\u001b[43m]\u001b[49m\u001b[43m[\u001b[49m\u001b[38;5;241;43m0\u001b[39;49m\u001b[43m]\u001b[49m\u001b[43m \u001b[49m\u001b[38;5;28;43;01mfor\u001b[39;49;00m\u001b[43m \u001b[49m\u001b[43mpop\u001b[49m\u001b[43m \u001b[49m\u001b[38;5;129;43;01min\u001b[39;49;00m\u001b[43m \u001b[49m\u001b[43mX_batches\u001b[49m\u001b[43m}\u001b[49m\u001b[43m,\u001b[49m\n\u001b[1;32m    339\u001b[0m \u001b[43m        \u001b[49m\u001b[43msfs_batches\u001b[49m\u001b[43m[\u001b[49m\u001b[38;5;241;43m0\u001b[39;49m\u001b[43m]\u001b[49m\u001b[43m,\u001b[49m\n\u001b[1;32m    340\u001b[0m \u001b[43m        \u001b[49m\u001b[43mauxd\u001b[49m\u001b[43m,\u001b[49m\n\u001b[1;32m    341\u001b[0m \u001b[43m        \u001b[49m\u001b[43mdemo\u001b[49m\u001b[43m,\u001b[49m\n\u001b[1;32m    342\u001b[0m \u001b[43m        \u001b[49m\u001b[43m_f\u001b[49m\u001b[43m,\u001b[49m\n\u001b[1;32m    343\u001b[0m \u001b[43m        \u001b[49m\u001b[43mesfs_tensor_prod\u001b[49m\u001b[43m,\u001b[49m\n\u001b[1;32m    344\u001b[0m \u001b[43m        \u001b[49m\u001b[43mesfs_map\u001b[49m\n\u001b[1;32m    345\u001b[0m \u001b[43m    \u001b[49m\u001b[43m)\u001b[49m\n\u001b[1;32m    346\u001b[0m \u001b[38;5;28;01melse\u001b[39;00m:\n\u001b[1;32m    347\u001b[0m     \u001b[38;5;66;03m# return fun(\u001b[39;00m\n\u001b[1;32m    348\u001b[0m     \u001b[38;5;66;03m#     theta_train_dict,\u001b[39;00m\n\u001b[0;32m   (...)\u001b[0m\n\u001b[1;32m    356\u001b[0m     \u001b[38;5;66;03m#     self.esfs_mapX\u001b[39;00m\n\u001b[1;32m    357\u001b[0m     \u001b[38;5;66;03m# )\u001b[39;00m\n\u001b[1;32m    359\u001b[0m     pmap_fun \u001b[38;5;241m=\u001b[39m jax\u001b[38;5;241m.\u001b[39mpmap(\n\u001b[1;32m    360\u001b[0m         fun,\n\u001b[1;32m    361\u001b[0m         in_axes\u001b[38;5;241m=\u001b[39m(\u001b[38;5;28;01mNone\u001b[39;00m, \u001b[38;5;28;01mNone\u001b[39;00m, \u001b[38;5;241m0\u001b[39m, \u001b[38;5;241m0\u001b[39m, \u001b[38;5;28;01mNone\u001b[39;00m, \u001b[38;5;28;01mNone\u001b[39;00m, \u001b[38;5;28;01mNone\u001b[39;00m, \u001b[38;5;28;01mNone\u001b[39;00m, \u001b[38;5;28;01mNone\u001b[39;00m),\n\u001b[1;32m    362\u001b[0m         static_broadcasted_argnums\u001b[38;5;241m=\u001b[39m(\u001b[38;5;241m6\u001b[39m, \u001b[38;5;241m7\u001b[39m, \u001b[38;5;241m8\u001b[39m)\n\u001b[1;32m    363\u001b[0m     )\n",
      "    \u001b[0;31m[... skipping hidden 56 frame]\u001b[0m\n",
      "File \u001b[0;32m~/enesenv/lib/python3.10/site-packages/jax/_src/linear_util.py:94\u001b[0m, in \u001b[0;36mStore.store\u001b[0;34m(self, val)\u001b[0m\n\u001b[1;32m     92\u001b[0m \u001b[38;5;28;01mdef\u001b[39;00m \u001b[38;5;21mstore\u001b[39m(\u001b[38;5;28mself\u001b[39m, val):\n\u001b[1;32m     93\u001b[0m   \u001b[38;5;28;01mif\u001b[39;00m \u001b[38;5;28mself\u001b[39m\u001b[38;5;241m.\u001b[39m_val \u001b[38;5;129;01mis\u001b[39;00m \u001b[38;5;129;01mnot\u001b[39;00m _EMPTY_STORE_VALUE:\n\u001b[0;32m---> 94\u001b[0m     \u001b[38;5;28;01mraise\u001b[39;00m StoreException(\u001b[38;5;124m\"\u001b[39m\u001b[38;5;124mStore occupied\u001b[39m\u001b[38;5;124m\"\u001b[39m)\n\u001b[1;32m     95\u001b[0m   \u001b[38;5;28mself\u001b[39m\u001b[38;5;241m.\u001b[39m_val \u001b[38;5;241m=\u001b[39m val\n",
      "\u001b[0;31mStoreException\u001b[0m: Store occupied"
     ]
    }
   ],
   "source": [
    "%%time\n",
    "momi.loglik_with_gradient(params, x)"
   ]
  },
  {
   "cell_type": "code",
   "execution_count": null,
   "id": "daf00e53",
   "metadata": {},
   "outputs": [],
   "source": []
  }
 ],
 "metadata": {
  "kernelspec": {
   "display_name": "Python 3 (ipykernel)",
   "language": "python",
   "name": "python3"
  },
  "language_info": {
   "codemirror_mode": {
    "name": "ipython",
    "version": 3
   },
   "file_extension": ".py",
   "mimetype": "text/x-python",
   "name": "python",
   "nbconvert_exporter": "python",
   "pygments_lexer": "ipython3",
   "version": "3.10.6"
  }
 },
 "nbformat": 4,
 "nbformat_minor": 5
}
